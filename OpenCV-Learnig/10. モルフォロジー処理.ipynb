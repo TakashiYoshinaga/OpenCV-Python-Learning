{
 "cells": [
  {
   "cell_type": "markdown",
   "metadata": {},
   "source": [
    "## モルフォロジー処理に関してはこの資料が分かり易いです\n"
   ]
  },
  {
   "cell_type": "markdown",
   "metadata": {},
   "source": [
    "## 収縮(Erosion)"
   ]
  },
  {
   "cell_type": "code",
   "execution_count": 7,
   "metadata": {},
   "outputs": [
    {
     "data": {
      "text/plain": [
       "-1"
      ]
     },
     "execution_count": 7,
     "metadata": {},
     "output_type": "execute_result"
    }
   ],
   "source": [
    "import cv2\n",
    "import numpy as np\n",
    "#画像を読み込む。第二引数は 0:グレースケール、1:カラー画像 -1:カラー＋アルファ\n",
    "img = cv2.imread('Images/noise4.jpg',0)\n",
    "\n",
    "#5x5のカーネル\n",
    "kernel = np.ones((5,5),np.uint8)\n",
    "#収縮処理で白画素を収縮。収縮回数(iterations)は1回\n",
    "dst = cv2.erode(img,kernel,iterations = 1)\n",
    "\n",
    "#2枚の画像を横に並べて1枚にする。\n",
    "res=cv2.hconcat([img,dst])\n",
    "\n",
    "#画像をWindowで表示\n",
    "cv2.imshow('result',res)\n",
    "#キー入力を待つ\n",
    "cv2.waitKey(0)\n",
    "#何かしらのキーを打つとウィンドウを閉じる\n",
    "cv2.destroyAllWindows()\n",
    "#全ての処理を終了する前にちょっと待つ。\n",
    "cv2.waitKey(1)"
   ]
  },
  {
   "cell_type": "markdown",
   "metadata": {},
   "source": [
    "## 膨張(Dilation)"
   ]
  },
  {
   "cell_type": "code",
   "execution_count": 16,
   "metadata": {},
   "outputs": [
    {
     "data": {
      "text/plain": [
       "-1"
      ]
     },
     "execution_count": 16,
     "metadata": {},
     "output_type": "execute_result"
    }
   ],
   "source": [
    "import cv2\n",
    "import numpy as np\n",
    "#画像を読み込む。第二引数は 0:グレースケール、1:カラー画像 -1:カラー＋アルファ\n",
    "img = cv2.imread('Images/noise3.jpg',0)\n",
    "\n",
    "#3x3のカーネル\n",
    "kernel = np.ones((3,3),np.uint8)\n",
    "#収縮処理で白画素を膨張。収縮回数(iterations)は1回\n",
    "dst = cv2.dilate(img,kernel,iterations = 1)\n",
    "\n",
    "#2枚の画像を横に並べて1枚にする。\n",
    "res=cv2.hconcat([img,dst])\n",
    "\n",
    "#画像をWindowで表示\n",
    "cv2.imshow('result',res)\n",
    "#キー入力を待つ\n",
    "cv2.waitKey(0)\n",
    "#何かしらのキーを打つとウィンドウを閉じる\n",
    "cv2.destroyAllWindows()\n",
    "#全ての処理を終了する前にちょっと待つ。\n",
    "cv2.waitKey(1)"
   ]
  },
  {
   "cell_type": "markdown",
   "metadata": {},
   "source": [
    "## オープニング(Opening)\n",
    "白画素を収縮(Erode)した後に同じ回数膨張(Dilate)"
   ]
  },
  {
   "cell_type": "code",
   "execution_count": 25,
   "metadata": {},
   "outputs": [
    {
     "data": {
      "text/plain": [
       "-1"
      ]
     },
     "execution_count": 25,
     "metadata": {},
     "output_type": "execute_result"
    }
   ],
   "source": [
    "import cv2\n",
    "import numpy as np\n",
    "#画像を読み込む。第二引数は 0:グレースケール、1:カラー画像 -1:カラー＋アルファ\n",
    "img = cv2.imread('Images/noise4.jpg',0)\n",
    "\n",
    "#5x5のカーネル\n",
    "kernel = np.ones((5,5),np.uint8)\n",
    "#白画素を収縮した後に膨張\n",
    "dst = cv2.morphologyEx(img, cv2.MORPH_OPEN, kernel,iterations = 1)\n",
    "\n",
    "#2枚の画像を横に並べて1枚にする。\n",
    "res=cv2.hconcat([img,dst])\n",
    "\n",
    "#画像をWindowで表示\n",
    "cv2.imshow('result',res)\n",
    "#キー入力を待つ\n",
    "cv2.waitKey(0)\n",
    "#何かしらのキーを打つとウィンドウを閉じる\n",
    "cv2.destroyAllWindows()\n",
    "#全ての処理を終了する前にちょっと待つ。\n",
    "cv2.waitKey(1)"
   ]
  },
  {
   "cell_type": "markdown",
   "metadata": {},
   "source": [
    "## クロージング(Closing)\n",
    "白画素を膨張した後に同じ回数収縮"
   ]
  },
  {
   "cell_type": "code",
   "execution_count": 27,
   "metadata": {},
   "outputs": [
    {
     "data": {
      "text/plain": [
       "-1"
      ]
     },
     "execution_count": 27,
     "metadata": {},
     "output_type": "execute_result"
    }
   ],
   "source": [
    "import cv2\n",
    "import numpy as np\n",
    "#画像を読み込む。第二引数は 0:グレースケール、1:カラー画像 -1:カラー＋アルファ\n",
    "img = cv2.imread('Images/noise3.jpg',0)\n",
    "\n",
    "#3x3のカーネル\n",
    "kernel = np.ones((3,3),np.uint8)\n",
    "#白画素を膨張した後に収縮\n",
    "dst = cv2.morphologyEx(img, cv2.MORPH_CLOSE, kernel,iterations = 1)\n",
    "\n",
    "#2枚の画像を横に並べて1枚にする。\n",
    "res=cv2.hconcat([img,dst])\n",
    "\n",
    "#画像をWindowで表示\n",
    "cv2.imshow('result',res)\n",
    "#キー入力を待つ\n",
    "cv2.waitKey(0)\n",
    "#何かしらのキーを打つとウィンドウを閉じる\n",
    "cv2.destroyAllWindows()\n",
    "#全ての処理を終了する前にちょっと待つ。\n",
    "cv2.waitKey(1)"
   ]
  },
  {
   "cell_type": "markdown",
   "metadata": {},
   "source": [
    "## モルフォロジー勾配\n",
    "膨張画像-収縮画像で輪郭抽出"
   ]
  },
  {
   "cell_type": "code",
   "execution_count": 32,
   "metadata": {},
   "outputs": [
    {
     "data": {
      "text/plain": [
       "-1"
      ]
     },
     "execution_count": 32,
     "metadata": {},
     "output_type": "execute_result"
    }
   ],
   "source": [
    "import cv2\n",
    "import numpy as np\n",
    "#画像を読み込む。第二引数は 0:グレースケール、1:カラー画像 -1:カラー＋アルファ\n",
    "img = cv2.imread('Images/noise4.jpg',0)\n",
    "\n",
    "#3x3のカーネル\n",
    "kernel = np.ones((3,3),np.uint8)\n",
    "#膨張画像-収縮画像で輪郭を抽出\n",
    "dst = cv2.morphologyEx(img, cv2.MORPH_GRADIENT, kernel,iterations = 1)\n",
    "\n",
    "#2枚の画像を横に並べて1枚にする。\n",
    "res=cv2.hconcat([img,dst])\n",
    "\n",
    "#画像をWindowで表示\n",
    "cv2.imshow('result',res)\n",
    "#キー入力を待つ\n",
    "cv2.waitKey(0)\n",
    "#何かしらのキーを打つとウィンドウを閉じる\n",
    "cv2.destroyAllWindows()\n",
    "#全ての処理を終了する前にちょっと待つ。\n",
    "cv2.waitKey(1)"
   ]
  },
  {
   "cell_type": "markdown",
   "metadata": {},
   "source": [
    "## トップハット変換\n",
    "入力画像とオープニングした画像の差"
   ]
  },
  {
   "cell_type": "code",
   "execution_count": 37,
   "metadata": {},
   "outputs": [
    {
     "data": {
      "text/plain": [
       "-1"
      ]
     },
     "execution_count": 37,
     "metadata": {},
     "output_type": "execute_result"
    }
   ],
   "source": [
    "import cv2\n",
    "import numpy as np\n",
    "#画像を読み込む。第二引数は 0:グレースケール、1:カラー画像 -1:カラー＋アルファ\n",
    "img = cv2.imread('Images/noise4.jpg',0)\n",
    "\n",
    "#5x5のカーネル\n",
    "kernel = np.ones((5,5),np.uint8)\n",
    "#オープニング処理(確認用)\n",
    "dst = cv2.morphologyEx(img, cv2.MORPH_OPEN, kernel,iterations = 2)\n",
    "#入力画像-オープニング結果 (白いノイズだけを残す)\n",
    "dst2 = cv2.morphologyEx(img, cv2.MORPH_TOPHAT, kernel,iterations = 2)\n",
    "\n",
    "#2枚の画像を横に並べて1枚にする。\n",
    "res=cv2.hconcat([img,dst,dst2])\n",
    "\n",
    "#画像をWindowで表示\n",
    "cv2.imshow('result',res)\n",
    "#キー入力を待つ\n",
    "cv2.waitKey(0)\n",
    "#何かしらのキーを打つとウィンドウを閉じる\n",
    "cv2.destroyAllWindows()\n",
    "#全ての処理を終了する前にちょっと待つ。\n",
    "cv2.waitKey(1)"
   ]
  },
  {
   "cell_type": "markdown",
   "metadata": {},
   "source": [
    "## ブラックハット変換\n",
    "入力画像とクロージングした画像の差"
   ]
  },
  {
   "cell_type": "code",
   "execution_count": 40,
   "metadata": {},
   "outputs": [
    {
     "data": {
      "text/plain": [
       "-1"
      ]
     },
     "execution_count": 40,
     "metadata": {},
     "output_type": "execute_result"
    }
   ],
   "source": [
    "import cv2\n",
    "import numpy as np\n",
    "#画像を読み込む。第二引数は 0:グレースケール、1:カラー画像 -1:カラー＋アルファ\n",
    "img = cv2.imread('Images/noise3.jpg',0)\n",
    "\n",
    "#3x3のカーネル\n",
    "kernel = np.ones((3,3),np.uint8)\n",
    "#クロージング処理の結果(確認用)\n",
    "dst = cv2.morphologyEx(img, cv2.MORPH_CLOSE, kernel,iterations = 1)\n",
    "#入力画像-クロージング結果(黒いノイズが残る)\n",
    "dst2 = cv2.morphologyEx(img, cv2.MORPH_BLACKHAT, kernel,iterations = 1)\n",
    "\n",
    "#2枚の画像を横に並べて1枚にする。\n",
    "res=cv2.hconcat([img,dst,dst2])\n",
    "\n",
    "#画像をWindowで表示\n",
    "cv2.imshow('result',res)\n",
    "#キー入力を待つ\n",
    "cv2.waitKey(0)\n",
    "#何かしらのキーを打つとウィンドウを閉じる\n",
    "cv2.destroyAllWindows()\n",
    "#全ての処理を終了する前にちょっと待つ。\n",
    "cv2.waitKey(1)"
   ]
  },
  {
   "cell_type": "code",
   "execution_count": null,
   "metadata": {},
   "outputs": [],
   "source": []
  }
 ],
 "metadata": {
  "kernelspec": {
   "display_name": "Python 3",
   "language": "python",
   "name": "python3"
  },
  "language_info": {
   "codemirror_mode": {
    "name": "ipython",
    "version": 3
   },
   "file_extension": ".py",
   "mimetype": "text/x-python",
   "name": "python",
   "nbconvert_exporter": "python",
   "pygments_lexer": "ipython3",
   "version": "3.7.7"
  }
 },
 "nbformat": 4,
 "nbformat_minor": 4
}
