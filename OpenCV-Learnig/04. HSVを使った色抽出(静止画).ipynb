{
 "cells": [
  {
   "cell_type": "code",
   "execution_count": null,
   "metadata": {},
   "outputs": [],
   "source": [
    "import cv2\n",
    "import numpy as np\n",
    "\n",
    "#画像を読み込む。第二引数は 0:グレースケール、1:カラー画像 -1:カラー＋アルファ\n",
    "img = cv2.imread('Images/HSV.png',1)\n",
    "\n",
    "#cvtColorで色空間を変換。第2引数でBGR→HSVを指定。\n",
    "#画像処理ではBGR→Grayもよく用いられる。この時はcv2.COLOR_BGR2GRAYを指定\n",
    "hsv = cv2.cvtColor(img, cv2.COLOR_BGR2HSV)\n",
    "\n",
    "#抽出するH,S,Vの値を指定する準備。\n",
    "#下記の場合、Hは45〜80、Sは50〜255、Vは50〜255を指定。\n",
    "lower = np.array([45,50,50])\n",
    "upper = np.array([80,255,255])\n",
    "\n",
    "#抽出する上限と下限の情報を元に範囲内の画素を白、範囲外の画素を黒の画像を生成\n",
    "mask = cv2.inRange(hsv, lower, upper)\n",
    "\n",
    "#元画像からmask画像白黒情報に基づいて色を抽出する\n",
    "#正確には第1,2引数の元画像and演算をした結果(当然何も変わらない)に\n",
    "#対してマスク処理をしている。\n",
    "res = cv2.bitwise_and(img,img, mask = mask)\n",
    "\n",
    "#画像をWindowで表示\n",
    "cv2.imshow('image',img)\n",
    "cv2.imshow('mask',mask)\n",
    "cv2.imshow('result',res)\n",
    "\n",
    "#キー入力を待つ\n",
    "cv2.waitKey(0)\n",
    "#何かしらのキーを打つとウィンドウを閉じる\n",
    "cv2.destroyAllWindows()\n",
    "#全ての処理を終了する前にちょっと待つ。\n",
    "cv2.waitKey(1)"
   ]
  },
  {
   "cell_type": "markdown",
   "metadata": {},
   "source": [
    "# HSVについて\n",
    "色空間の一つ。Hが色相、Sが彩度、Vが明るさを表す。<br>\n",
    "Hは各色を0〜359°で表現することができるが、OpenCVではHをByte型で扱うため256段階でしか表現できない。<br>\n",
    "そのため、色相環一周を0〜179°で表現しているので要注意。なおS,Vの値については0〜255で表現する。<br>\n",
    "※cv2.COLOR_BGR2HSV_FULLを指定すると一周を256段階(0〜255)で表現することも可能。<br>\n",
    "<img src=\"https://upload.wikimedia.org/wikipedia/commons/f/f1/HSV_cone.jpg\" width=\"320\" style=\"float: left;\"></img>\n",
    "\n",
    "\n"
   ]
  }
 ],
 "metadata": {
  "kernelspec": {
   "display_name": "Python 3",
   "language": "python",
   "name": "python3"
  },
  "language_info": {
   "codemirror_mode": {
    "name": "ipython",
    "version": 3
   },
   "file_extension": ".py",
   "mimetype": "text/x-python",
   "name": "python",
   "nbconvert_exporter": "python",
   "pygments_lexer": "ipython3",
   "version": "3.7.6"
  }
 },
 "nbformat": 4,
 "nbformat_minor": 4
}
