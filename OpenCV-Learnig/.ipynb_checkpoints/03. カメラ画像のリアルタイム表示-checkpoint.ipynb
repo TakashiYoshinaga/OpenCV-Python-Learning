{
 "cells": [
  {
   "cell_type": "code",
   "execution_count": null,
   "metadata": {},
   "outputs": [],
   "source": [
    "import cv2\n",
    "#カメラに接続。引数の0は0番目のカメラという意味。\n",
    "cap = cv2.VideoCapture(0)\n",
    "\n",
    "while (True):\n",
    "    #カメラから画像をとってくる\n",
    "    ret,frame = cap.read()\n",
    "    #サイズでかいとき対策として半分にする\n",
    "    h,w,_=frame.shape[:3]\n",
    "    frame = cv2.resize(frame, (int(w//2), int(h//2)))       \n",
    "    #画像をウィンドウで表示\n",
    "    cv2.imshow(\"frame\",frame)\n",
    "    #30ミリ秒、キー入力を待つ\n",
    "    key = cv2.waitKey(30) & 0xFF\n",
    "    #qを入力した場合は終了\n",
    "    if key ==ord('q') :\n",
    "        break\n",
    "#キャプチャを終了\n",
    "cap.release()\n",
    "cv2.waitKey(1)\n",
    "#全てのウィンドウを閉じる\n",
    "cv2.destroyAllWindows()\n",
    "#フリーズ対策として終わる前にちょっと待つ\n",
    "cv2.waitKey(1)"
   ]
  },
  {
   "cell_type": "code",
   "execution_count": null,
   "metadata": {},
   "outputs": [],
   "source": []
  }
 ],
 "metadata": {
  "kernelspec": {
   "display_name": "Python 3",
   "language": "python",
   "name": "python3"
  },
  "language_info": {
   "codemirror_mode": {
    "name": "ipython",
    "version": 3
   },
   "file_extension": ".py",
   "mimetype": "text/x-python",
   "name": "python",
   "nbconvert_exporter": "python",
   "pygments_lexer": "ipython3",
   "version": "3.7.6"
  }
 },
 "nbformat": 4,
 "nbformat_minor": 4
}
