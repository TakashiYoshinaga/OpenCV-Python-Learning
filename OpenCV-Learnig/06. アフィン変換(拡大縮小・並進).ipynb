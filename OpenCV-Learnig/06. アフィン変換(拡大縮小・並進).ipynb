{
 "cells": [
  {
   "cell_type": "markdown",
   "metadata": {},
   "source": [
    "# サイズの変更"
   ]
  },
  {
   "cell_type": "code",
   "execution_count": null,
   "metadata": {},
   "outputs": [],
   "source": [
    "import cv2\n",
    "#画像を読み込む\n",
    "img = cv2.imread('Images/arfukuoka.jpg')\n",
    "\n",
    "#元画像の縦横を取得(戻り値は高さ、横幅、チャンネル数。_を使うことでチャンネル数は受け取らない)\n",
    "height, width, _ = img.shape\n",
    "\n",
    "#縦横のサイズを2倍にしてリサイズ(ピクセル数を指定してリサイズする方法)\n",
    "res = cv2.resize(img,(2*width, 2*height))\n",
    "#縦を1.5倍、横を0.5倍にしてリサイズ(拡大率を指定してリサイズする方法)\n",
    "res2 = cv2.resize(img,None,fx=1.5, fy=0.5, interpolation = cv2.INTER_CUBIC)\n",
    "\n",
    "#画像の表示\n",
    "cv2.imshow('original',img)\n",
    "cv2.imshow('resize1',res)\n",
    "cv2.imshow('resize 2',res2)\n",
    "\n",
    "#キー入力を待つ\n",
    "cv2.waitKey(0)\n",
    "#何かしらのキーを打つとウィンドウを閉じる\n",
    "cv2.destroyAllWindows()\n",
    "#全ての処理を終了する前にちょっと待つ。\n",
    "cv2.waitKey(1)"
   ]
  },
  {
   "cell_type": "markdown",
   "metadata": {},
   "source": [
    "# 並進 (x,y移動)"
   ]
  },
  {
   "cell_type": "code",
   "execution_count": null,
   "metadata": {},
   "outputs": [],
   "source": [
    "import cv2\n",
    "import numpy as np\n",
    "\n",
    "#画像を読み込む\n",
    "img = cv2.imread('Images/arfukuoka.jpg')\n",
    "\n",
    "#元画像の縦横を取得(rows=height, cols=width)\n",
    "rows, cols,_ = img.shape\n",
    "\n",
    "#画像を横縦方向にスライドさせる\n",
    "M = np.float32([[1,0,10],[0,1,10]])\n",
    "res = cv2.warpAffine(img,M,(cols,rows))\n",
    "\n",
    "#画像の表示\n",
    "cv2.imshow('img',img)\n",
    "cv2.imshow('result',res)\n",
    "\n",
    "#キー入力を待つ\n",
    "cv2.waitKey(0)\n",
    "#何かしらのキーを打つとウィンドウを閉じる\n",
    "cv2.destroyAllWindows()\n",
    "#全ての処理を終了する前にちょっと待つ。\n",
    "cv2.waitKey(1)"
   ]
  }
 ],
 "metadata": {
  "kernelspec": {
   "display_name": "Python 3",
   "language": "python",
   "name": "python3"
  },
  "language_info": {
   "codemirror_mode": {
    "name": "ipython",
    "version": 3
   },
   "file_extension": ".py",
   "mimetype": "text/x-python",
   "name": "python",
   "nbconvert_exporter": "python",
   "pygments_lexer": "ipython3",
   "version": "3.7.6"
  }
 },
 "nbformat": 4,
 "nbformat_minor": 4
}
