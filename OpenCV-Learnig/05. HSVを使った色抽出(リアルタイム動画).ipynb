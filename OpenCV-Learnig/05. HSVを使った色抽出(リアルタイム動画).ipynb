{
 "cells": [
  {
   "cell_type": "code",
   "execution_count": null,
   "metadata": {},
   "outputs": [],
   "source": [
    "import cv2\n",
    "import numpy as np\n",
    "\n",
    "#カメラに接続。引数の0は0番目のカメラという意味。\n",
    "cap = cv2.VideoCapture(0)\n",
    "\n",
    "while (True):\n",
    "    #カメラから画像をとってくる\n",
    "    ret,frame = cap.read()\n",
    "    #サイズでかいとき対策として半分にする\n",
    "    h,w,_=frame.shape[:3]\n",
    "    frame = cv2.resize(frame, (int(w//2), int(h//2))) \n",
    "    \n",
    "    #cvtColorで色空間を変換。第2引数でBGR→HSVを指定。\n",
    "    #画像処理ではBGR→Grayもよく用いられる。この時はcv2.COLOR_BGR2GRAYを指定\n",
    "    hsv = cv2.cvtColor(frame, cv2.COLOR_BGR2HSV)\n",
    "\n",
    "    #抽出するH,S,Vの値を指定する準備。\n",
    "    #下記の場合、Hは45〜80、Sは50〜255、Vは50〜255を指定。\n",
    "    #緑色っぽいところを抽出\n",
    "    lower = np.array([45,50,50])\n",
    "    upper = np.array([80,255,255])\n",
    "\n",
    "    #抽出する上限と下限の情報を元に範囲内の画素を白、範囲外の画素を黒の画像を生成\n",
    "    mask = cv2.inRange(hsv, lower, upper)\n",
    "\n",
    "    #元画像からmask画像白黒情報に基づいて色を抽出する\n",
    "    #正確には第1,2引数の元画像and演算をした結果(当然何も変わらない)に\n",
    "    #対してマスク処理をしている。\n",
    "    res = cv2.bitwise_and(frame,frame, mask = mask)\n",
    "        \n",
    "    #画像をウィンドウで表示\n",
    "    cv2.imshow(\"frame\",frame)\n",
    "    cv2.imshow(\"mask\",mask)\n",
    "    cv2.imshow(\"result\",res)\n",
    "    \n",
    "    #30ミリ秒、キー入力を待つ\n",
    "    key = cv2.waitKey(30) & 0xFF\n",
    "    #qを入力した場合は終了\n",
    "    if key ==ord('q') :\n",
    "        break\n",
    "#キャプチャを終了\n",
    "cap.release()\n",
    "cv2.waitKey(1)\n",
    "#全てのウィンドウを閉じる\n",
    "cv2.destroyAllWindows()\n",
    "#フリーズ対策として終わる前にちょっと待つ\n",
    "cv2.waitKey(1)"
   ]
  },
  {
   "cell_type": "markdown",
   "metadata": {},
   "source": [
    "# HSVについて\n",
    "色空間の一つ。Hが色相、Sが彩度、Vが明るさを表す。<br>\n",
    "Hは各色を0〜359°で表現することができるが、OpenCVではHをByte型で扱うため256段階でしか表現できない。<br>\n",
    "そのため、色相環一周を0〜179°で表現しているので要注意。なおS,Vの値については0〜255で表現する。<br>\n",
    "※cv2.COLOR_BGR2HSV_FULLを指定すると一周を256段階(0〜255)で表現することも可能。<br>\n",
    "<img src=\"https://upload.wikimedia.org/wikipedia/commons/f/f1/HSV_cone.jpg\" width=\"320\" style=\"float: left;\"></img>"
   ]
  },
  {
   "cell_type": "markdown",
   "metadata": {},
   "source": [
    "# クロマキー処理\n",
    "抽出したエリア(緑の領域)に色を塗るのでなく、それ以外の領域に色を塗るという発想でクロマキー処理も実現できます。<br>\n",
    "上記コードにcv2.bitwise_not(mask)を追加することで白黒を反転させればOK。<br>\n",
    "<img src=\"https://github.com/TakashiYoshinaga/OpenCV-Python-Learning/blob/master/OpenCV-Learnig/Results/chromakey.png?raw=true\" width=\"320\" style=\"float: left;\"></img>"
   ]
  },
  {
   "cell_type": "markdown",
   "metadata": {},
   "source": [
    "試してみたい人は下記のpdfを印刷してプログラムを実行してください。<br>\n",
    "https://github.com/TakashiYoshinaga/OpenCV-Python-Learning/blob/master/OpenCV-Learnig/Resources/greenback.pdf"
   ]
  },
  {
   "cell_type": "code",
   "execution_count": null,
   "metadata": {},
   "outputs": [],
   "source": [
    "import cv2\n",
    "import numpy as np\n",
    "\n",
    "#カメラに接続。引数の0は0番目のカメラという意味。\n",
    "cap = cv2.VideoCapture(0)\n",
    "\n",
    "while (True):\n",
    "    #カメラから画像をとってくる\n",
    "    ret,frame = cap.read()\n",
    "    #サイズでかいとき対策として半分にする\n",
    "    h,w,_=frame.shape[:3]\n",
    "    frame = cv2.resize(frame, (int(w//2), int(h//2))) \n",
    "    \n",
    "    #cvtColorで色空間を変換。第2引数でBGR→HSVを指定。\n",
    "    #画像処理ではBGR→Grayもよく用いられる。この時はcv2.COLOR_BGR2GRAYを指定\n",
    "    hsv = cv2.cvtColor(frame, cv2.COLOR_BGR2HSV)\n",
    "\n",
    "    #抽出するH,S,Vの値を指定する準備。\n",
    "    #下記の場合、Hは40〜90、Sは20〜255、Vは20〜255を指定。(変更点 1of2)\n",
    "    lower = np.array([40,20,20])\n",
    "    upper = np.array([90,255,255])\n",
    "\n",
    "    #抽出する上限と下限の情報を元に範囲内の画素を白、範囲外の画素を黒の画像を生成\n",
    "    mask = cv2.inRange(hsv, lower, upper)\n",
    "    \n",
    "    #上記の処理だと緑が抽出されるので白黒反転させる(変更点 2of2)\n",
    "    mask = cv2.bitwise_not(mask)\n",
    "    \n",
    "    #元画像からmask画像白黒情報に基づいて色を抽出する\n",
    "    #正確には第1,2引数の元画像and演算をした結果(当然何も変わらない)に\n",
    "    #対してマスク処理をしている。\n",
    "    res = cv2.bitwise_and(frame,frame, mask = mask)\n",
    "        \n",
    "    #画像をウィンドウで表示\n",
    "    cv2.imshow(\"frame\",frame)\n",
    "    cv2.imshow(\"mask\",mask)\n",
    "    cv2.imshow(\"result\",res)\n",
    "    \n",
    "    #30ミリ秒、キー入力を待つ\n",
    "    key = cv2.waitKey(30) & 0xFF\n",
    "    #qを入力した場合は終了\n",
    "    if key ==ord('q') :\n",
    "        break\n",
    "#キャプチャを終了\n",
    "cap.release()\n",
    "cv2.waitKey(1)\n",
    "#全てのウィンドウを閉じる\n",
    "cv2.destroyAllWindows()\n",
    "#フリーズ対策として終わる前にちょっと待つ\n",
    "cv2.waitKey(1)"
   ]
  },
  {
   "cell_type": "code",
   "execution_count": null,
   "metadata": {},
   "outputs": [],
   "source": []
  },
  {
   "cell_type": "code",
   "execution_count": null,
   "metadata": {},
   "outputs": [],
   "source": []
  }
 ],
 "metadata": {
  "kernelspec": {
   "display_name": "Python 3",
   "language": "python",
   "name": "python3"
  },
  "language_info": {
   "codemirror_mode": {
    "name": "ipython",
    "version": 3
   },
   "file_extension": ".py",
   "mimetype": "text/x-python",
   "name": "python",
   "nbconvert_exporter": "python",
   "pygments_lexer": "ipython3",
   "version": "3.7.6"
  }
 },
 "nbformat": 4,
 "nbformat_minor": 4
}
