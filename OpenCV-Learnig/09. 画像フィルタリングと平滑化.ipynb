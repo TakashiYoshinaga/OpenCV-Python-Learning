{
 "cells": [
  {
   "cell_type": "markdown",
   "metadata": {},
   "source": [
    "## Convolution(画像のフィルタリング)"
   ]
  },
  {
   "cell_type": "code",
   "execution_count": null,
   "metadata": {},
   "outputs": [],
   "source": [
    "import cv2\n",
    "import numpy as np\n",
    "#画像を読み込む。第二引数は 0:グレースケール、1:カラー画像 -1:カラー＋アルファ\n",
    "img = cv2.imread('Images/OpenCV_Logo.png',1)\n",
    "\n",
    "#カーネル(フィルタ=周囲のピクセルにかける係数)を作成\n",
    "#ここでは5x5のフィルタを作成。トータルで1になるように25で割っている。\n",
    "kernel = np.ones((5,5),np.float32)/25\n",
    "\n",
    "#フィルタリング処理\n",
    "#第1引数：元画像、第2引数：出力画像のビット深度(通常8it)で-1だと元画像と同じ。\n",
    "#参考: https://qiita.com/yoya/items/41b00127b0b1fea8c4f1\n",
    "dst = cv2.filter2D(img,-1,kernel)\n",
    "\n",
    "#2枚の画像を横に並べて1枚にする。\n",
    "res=cv2.hconcat([img,dst])\n",
    "\n",
    "#画像をWindowで表示\n",
    "cv2.imshow('result',res)\n",
    "#キー入力を待つ\n",
    "cv2.waitKey(0)\n",
    "#何かしらのキーを打つとウィンドウを閉じる\n",
    "cv2.destroyAllWindows()\n",
    "#全ての処理を終了する前にちょっと待つ。\n",
    "cv2.waitKey(1)"
   ]
  },
  {
   "cell_type": "markdown",
   "metadata": {},
   "source": [
    "### 補足\n",
    "実行結果。filter2Dで処理した結果画像がボケていることが確認できる。<br>\n",
    "<img src=\"./Results/convolution.png\" width=\"400\" >\n",
    "<br><br>\n",
    "ここで行われている処理は下記の通り。<br><br>\n",
    "1) 画像中の1つのピクセル(画素)に注目<br>\n",
    "2) 注目画素を中心とする周辺領域を設定(ROI)<br>\n",
    "3) ROI内の各画素をの値(=色)にアクセス<br>\n",
    "4) 各画素の値に係数1をそれぞれかけて合計する<br>\n",
    "5) 合計値をROIの画素数で割った値(=平均値)を注目画素の値とする。<br>\n",
    "6) 1-5を全ての画素に対して行う。<br>\n",
    "<img src=\"./Results/convolution_flow.png\" width=\"500\" >\n",
    "<br>\n",
    "つまり注目画素周辺の色を平均して色を置き換える処理をすることにより、ぼかしの効果を得ているのがこの処理の意味。<br>\n",
    "上記の処理について画像処理の教科書等では各画素にかける係数のみを取り出し下記のような行列で記述し、この行列のことをカーネルもしくはフィルタと呼ぶ。\n",
    "<img src=\"./Results/kernel_blur.png\" width=\"300\" >\n",
    "<br>カーネルの大きさは5x5, 11x11のように奇数である必要があるが自由に変えることが可能。<br>\n",
    "上記のように注目領域と周辺領域の画素値を単純に平均する処理の場合、カーネルが大きくなるほどボカシ効果が大きくなる。\n",
    "<br>\n",
    "また行列内の値、つまり各ピクセルにかける係数は自由に変えることが可能であり、その結果としてボカシ以外にもエッジ検出など様々な結果を得ることができる。\n",
    "<br>ただし、計算結果が各画素で扱える値を超えないように気をつける必要があるので要注意。"
   ]
  },
  {
   "cell_type": "markdown",
   "metadata": {},
   "source": [
    "## 平均を用いた平滑化(Blur)"
   ]
  },
  {
   "cell_type": "code",
   "execution_count": null,
   "metadata": {},
   "outputs": [],
   "source": [
    "import cv2\n",
    "import numpy as np\n",
    "#画像を読み込む。第二引数は 0:グレースケール、1:カラー画像 -1:カラー＋アルファ\n",
    "img = cv2.imread('Images/OpenCV_Logo.png',1)\n",
    "\n",
    "#平均値フィルタ。Kernelを5x5\n",
    "blur = cv2.blur(img,(5,5))\n",
    "\n",
    "#2枚の画像を横に並べて1枚にする。\n",
    "res=cv2.hconcat([img,blur])\n",
    "\n",
    "#画像をWindowで表示\n",
    "cv2.imshow('result',res)\n",
    "#キー入力を待つ\n",
    "cv2.waitKey(0)\n",
    "#何かしらのキーを打つとウィンドウを閉じる\n",
    "cv2.destroyAllWindows()\n",
    "#全ての処理を終了する前にちょっと待つ。\n",
    "cv2.waitKey(1)"
   ]
  },
  {
   "cell_type": "markdown",
   "metadata": {},
   "source": [
    "### 補足\n",
    "結果は前述のフィルタ処理と同じ。\n",
    "<br>\n",
    "前述の手順ではカーネルを独自に記述して処理を実行することが可能だが、よく用いられるフィルター処理に関してはOpenCV側で提供している。\n",
    "<br>\n",
    "普通のボカシを行う場合、cv2.blurを使い元画像とカーネルサイズを指定すればOK"
   ]
  },
  {
   "cell_type": "markdown",
   "metadata": {},
   "source": [
    "## ガウシアンフィルタ"
   ]
  },
  {
   "cell_type": "code",
   "execution_count": null,
   "metadata": {},
   "outputs": [],
   "source": [
    "import cv2\n",
    "import numpy as np\n",
    "#画像を読み込む。第二引数は 0:グレースケール、1:カラー画像 -1:カラー＋アルファ\n",
    "img = cv2.imread('Images/OpenCV_Logo.png',1)\n",
    "\n",
    "#平均値フィルタ。Kernelを13x13\n",
    "blur = cv2.blur(img,(13,13))\n",
    "#ガウシアンフィルタ第3引数はσの値。0の場合は自動で設定。\n",
    "gauss = cv2.GaussianBlur(img,(13,13),0)\n",
    "\n",
    "#元画像と平均値フィルタの結果を横に並べて1枚にする。\n",
    "res=cv2.hconcat([img,blur])\n",
    "#さらにガウシアンフィルタの結果を並べる\n",
    "res=cv2.hconcat([res,gauss])\n",
    "\n",
    "#画像をWindowで表示\n",
    "cv2.imshow('result',res)\n",
    "#キー入力を待つ\n",
    "cv2.waitKey(0)\n",
    "#何かしらのキーを打つとウィンドウを閉じる\n",
    "cv2.destroyAllWindows()\n",
    "#全ての処理を終了する前にちょっと待つ。\n",
    "cv2.waitKey(1)"
   ]
  },
  {
   "cell_type": "markdown",
   "metadata": {},
   "source": [
    "### 補足\n",
    "実行結果は左から元画像とカーネルサイズの13x13の平均値フィルタとガウシアンフィルタ。<br>\n",
    "いずれもボカシ効果は得られているが、手法によって結果が異なることが確認できる。\n",
    "<br>\n",
    "<img src=\"./Results/filter_gauss.png\" width=\"440\" >\n",
    "<br>\n",
    "ガウシアンフィルタではカーネルの係数をガウス分布にしたがって決定している。つまり、各画素に単純に1をかけるのではなく、注目画素(=ROIの中心)からの距離に応じて重みを変えて注目画素の値を決める、重み付き平均を行なっている。\n",
    "<br><br>\n",
    "カーネルの値については下記のサイトをはじめとする画像処理ページに掲載されている。\n",
    "https://www.mitani-visual.jp/mivlog/imageprocessing/gf3r89.php\n",
    "<br>\n",
    "また、平均値フィルタとガウシアンフィルタの効果の相違に関する解説は参考になる。\n",
    "https://imagingsolution.net/imaging/average_vs_gaussian_filter/"
   ]
  },
  {
   "cell_type": "markdown",
   "metadata": {},
   "source": [
    "## メディアン(中央値)フィルタ"
   ]
  },
  {
   "cell_type": "code",
   "execution_count": null,
   "metadata": {},
   "outputs": [],
   "source": [
    "import cv2\n",
    "import numpy as np\n",
    "#画像を読み込む。第二引数は 0:グレースケール、1:カラー画像 -1:カラー＋アルファ\n",
    "img = cv2.imread('Images/OpenCV_Logo.png',1)\n",
    "\n",
    "#平均値フィルタ。Kernelを7x7\n",
    "blur = cv2.blur(img,(7,7))\n",
    "#ガウシアンフィルタ第3引数はσの値。0の場合は自動で設定。\n",
    "gauss = cv2.GaussianBlur(img,(7,7),0)\n",
    "#メディアンフィルタ\n",
    "median=cv2.medianBlur(img,7)\n",
    "\n",
    "#サイズを取得\n",
    "height,width,_=img.shape\n",
    "#画像を作って初期化\n",
    "res = np.full((height*2, width*2,3),0, np.uint8)\n",
    "\n",
    "res[ 0 :height, 0 :width] = img; \n",
    "res[ 0 :height, width :width*2] = blur; \n",
    "res[ height :height*2, 0 :width] = gauss; \n",
    "res[ height :height*2, width :width*2] = median; \n",
    "\n",
    "#画像をWindowで表示\n",
    "cv2.imshow('result',res)\n",
    "#キー入力を待つ\n",
    "cv2.waitKey(0)\n",
    "#何かしらのキーを打つとウィンドウを閉じる\n",
    "cv2.destroyAllWindows()\n",
    "#全ての処理を終了する前にちょっと待つ。\n",
    "cv2.waitKey(1)"
   ]
  },
  {
   "cell_type": "markdown",
   "metadata": {},
   "source": [
    "### 補足\n",
    "実行結果は左上：元画像、右上：平均値フィルタ、左下：ガウシアンフィルタ、右下：メディアンフィルタ。<br>メディアンフィルタでは輪郭を残しつつ平滑化が行われ、よく見ると角が丸くなっていることが確認できる。\n",
    "<br>\n",
    "<img src=\"./Results/filter_median.png\" width=\"440\" >\n",
    "<br>本処理の特徴としては、注目画素の値を決める際にROI内の画素値の中央値が用いられている点が挙げれる。これによりROI内の画素値の分布で両極端な値を除外することができる。\n",
    "<br>この特色を生かしてを活かしてメディアンフィルタはノイズ除去などに用いられる。\n",
    "<img src=\"./Results/filter_median2.png\" width=\"440\" >\n",
    "<br>\n",
    "この他にもczech.jpg, noise.jpg, noise2.jpg, noise3.jpgなどでも試すと効果がわかり易いかもしれません。"
   ]
  },
  {
   "cell_type": "markdown",
   "metadata": {},
   "source": [
    "## バイラテラルフィルタ"
   ]
  },
  {
   "cell_type": "code",
   "execution_count": null,
   "metadata": {},
   "outputs": [],
   "source": [
    "import cv2\n",
    "import numpy as np\n",
    "#画像を読み込む。第二引数は 0:グレースケール、1:カラー画像 -1:カラー＋アルファ\n",
    "img = cv2.imread('Images/noise2.jpg',1)\n",
    "\n",
    "#平均値フィルタ。Kernelを5x5\n",
    "blur = cv2.blur(img,(5,5))\n",
    "#ガウシアンフィルタ第3引数はσの値。0の場合は自動で設定。\n",
    "gauss = cv2.GaussianBlur(img,(5,5),0)\n",
    "#メディアンフィルタ\n",
    "median=cv2.medianBlur(img,5)\n",
    "#バイラテラルフィルタ\n",
    "#引数は元画像、近傍領域の直径、sigmaColor, sigmaSpace\n",
    "bilateral = cv2.bilateralFilter(img,9,95,75)\n",
    "\n",
    "#サイズを取得\n",
    "height,width,_=img.shape\n",
    "#画像を作って初期化\n",
    "res = np.full((height*2, width*3,3),0, np.uint8)\n",
    "\n",
    "res[ 0 :height, 0 :width] = img; \n",
    "res[ 0 :height, width :width *2] = blur; \n",
    "res[ 0 :height, width*2 :width*3] = gauss; \n",
    "res[ height :height*2, 0 :width] = median; \n",
    "res[ height :height*2, width :width*2] = bilateral; \n",
    "\n",
    "#画像をWindowで表示\n",
    "cv2.imshow('result',res)\n",
    "#キー入力を待つ\n",
    "cv2.waitKey(0)\n",
    "#何かしらのキーを打つとウィンドウを閉じる\n",
    "cv2.destroyAllWindows()\n",
    "#全ての処理を終了する前にちょっと待つ。\n",
    "cv2.waitKey(1)"
   ]
  },
  {
   "cell_type": "markdown",
   "metadata": {},
   "source": [
    "### 補足\n",
    "実行結果は下記の通り。<br>\n",
    "左上：元画像、中央上：平均値フィルタ、右上：ガウシアンフィルタ<br>\n",
    "左下：メディアンフィルタ、中央下：バイラテラルフィルタ\n",
    "<br>バイラテラルフィルタは前述のガウシアンフィルタに対して輪郭がボケずに残る結果を得られることが特徴。\n",
    "<br>\n",
    "<img src=\"./Results/filter_bilateral.png\" width=\"500\" >\n",
    "<br>\n",
    "詳細の解説は下記のサイトに委ねるが、考え方としては2つの重み付き平均をしたフィルタリングを行なっている。そのうちの1つは注目画素からの距離に応じて重みを変えるガウシアンフィルタ、もう一つは色の類似性を重みに用いたフィルタ。つまり、注目画素の周りに類似する色がある場合はボカシが効き、少ない場合には注目画素の影響が強くなる。そのため輪郭部のように色変化の激しい場所に関しては注目画素の色が優位となり、輪郭を残した平滑化が実現される。<br>\n",
    "https://imagingsolution.net/imaging/bilateralfilter/\n",
    "<br><br>\n",
    "上記のようなごま塩ノイズに対する実行結果ではイマイチその効果を得づらいが、以下の結果のように屋根や緑地の部分のように同系統の色の中の色の微妙な違いは見事に平滑化され、かつ輪郭も綺麗に得られることが確認できる。\n",
    "<br>\n",
    "<img src=\"./Results/filter_bilateral2.png\" width=\"500\" >\n",
    "<br>\n",
    "\n"
   ]
  },
  {
   "cell_type": "markdown",
   "metadata": {},
   "source": [
    "## おまけ：ノイズを追加"
   ]
  },
  {
   "cell_type": "code",
   "execution_count": null,
   "metadata": {},
   "outputs": [],
   "source": [
    "# 参考サイト\n",
    "# http://optie.hatenablog.com/entry/2018/04/07/232822\n",
    "import cv2\n",
    "import numpy as np\n",
    "#画像を読み込む。第二引数は 0:グレースケール、1:カラー画像 -1:カラー＋アルファ\n",
    "img = cv2.imread('Images/OpenCV_Logo.png',1)\n",
    "\n",
    "noise = np.random.binomial(1,0.95,img.shape[:2])[:,:,np.newaxis].repeat(3,axis=2)\n",
    "noised_photo = (img * noise).astype('uint8')\n",
    "\n",
    "#画像をWindowで表示\n",
    "cv2.imshow('result',noised_photo)\n",
    "#キー入力を待つ\n",
    "cv2.waitKey(0)\n",
    "cv2.imwrite('Images/noise.jpg',noised_photo)\n",
    "#何かしらのキーを打つとウィンドウを閉じる\n",
    "cv2.destroyAllWindows()\n",
    "#全ての処理を終了する前にちょっと待つ。\n",
    "cv2.waitKey(1)"
   ]
  },
  {
   "cell_type": "markdown",
   "metadata": {},
   "source": [
    "## おまけ2: モノクロ画像の読み込み"
   ]
  },
  {
   "cell_type": "code",
   "execution_count": null,
   "metadata": {},
   "outputs": [],
   "source": [
    "import cv2\n",
    "import numpy as np\n",
    "#画像を読み込む。第二引数は 0:グレースケール、1:カラー画像 -1:カラー＋アルファ\n",
    "img = cv2.imread('Images/noise3.jpg',0)\n",
    "\n",
    "#blurでぼかし処理をしてくれる。第二引数はカーネルのサイズ\n",
    "blur = cv2.blur(img,(5,5))\n",
    "#ガウシアンフィルタ\n",
    "gaussian = cv2.GaussianBlur(img,(5,5), 0)\n",
    "#メディアンフィルタ\n",
    "median = cv2.medianBlur(img,5)\n",
    "#バイラテラルフィルタ\n",
    "#引数は元画像、近傍領域の直径、sigmaColor, sigmaSpace\n",
    "bilateral = cv2.bilateralFilter(img,9,95,75)\n",
    "\n",
    "#サイズを取得\n",
    "height,width=img.shape\n",
    "#画像を作って初期化\n",
    "res = np.full((height*2, width*3),0, np.uint8)\n",
    "\n",
    "res[0:height,0:width]=img\n",
    "res[0:height,width:width*2]=blur\n",
    "res[0:height,width*2:width*3]=gaussian\n",
    "res[height:height*2,0:width]=median\n",
    "res[height:height*2,width:width*2]=bilateral\n",
    "\n",
    "#画像をWindowで表示\n",
    "cv2.imshow('image',res)\n",
    "#キー入力を待つ\n",
    "cv2.waitKey(0)\n",
    "#何かしらのキーを打つとウィンドウを閉じる\n",
    "cv2.destroyAllWindows()\n",
    "#全ての処理を終了する前にちょっと待つ。\n",
    "cv2.waitKey(1)"
   ]
  },
  {
   "cell_type": "code",
   "execution_count": null,
   "metadata": {},
   "outputs": [],
   "source": []
  }
 ],
 "metadata": {
  "kernelspec": {
   "display_name": "Python 3",
   "language": "python",
   "name": "python3"
  },
  "language_info": {
   "codemirror_mode": {
    "name": "ipython",
    "version": 3
   },
   "file_extension": ".py",
   "mimetype": "text/x-python",
   "name": "python",
   "nbconvert_exporter": "python",
   "pygments_lexer": "ipython3",
   "version": "3.7.6"
  }
 },
 "nbformat": 4,
 "nbformat_minor": 4
}
