{
 "cells": [
  {
   "cell_type": "markdown",
   "metadata": {},
   "source": [
    "# 画像表示用の基本コード"
   ]
  },
  {
   "cell_type": "code",
   "execution_count": null,
   "metadata": {},
   "outputs": [],
   "source": [
    "import cv2\n",
    "\n",
    "#画像を読み込む。第二引数は 0:グレースケール、1:カラー画像 -1:カラー＋アルファ\n",
    "img = cv2.imread('Images/arfukuoka.png',1)\n",
    "\n",
    "#画像をWindowで表示\n",
    "cv2.imshow('image',img)\n",
    "\n",
    "#キー入力を待つ\n",
    "cv2.waitKey(0)\n",
    "#何かしらのキーを打つとウィンドウを閉じる\n",
    "cv2.destroyAllWindows()\n",
    "#全ての処理を終了する前にちょっと待つ。\n",
    "cv2.waitKey(1)"
   ]
  },
  {
   "cell_type": "markdown",
   "metadata": {},
   "source": [
    "# スケーリング"
   ]
  },
  {
   "cell_type": "code",
   "execution_count": null,
   "metadata": {},
   "outputs": [],
   "source": [
    "import cv2\n",
    "\n",
    "#画像を読み込む。第二引数は 0:グレースケール、1:カラー画像 -1:カラー＋アルファ\n",
    "img = cv2.imread('Images/arfukuoka.png',1)\n",
    "\n",
    "#方法1:縦横の倍数\n",
    "res = cv2.resize(img,None,fx=1.2, fy=1.5)\n",
    "#方法2：縦横のピクセル数\n",
    "res2 = cv2.resize(img,(300,300), interpolation = cv2.INTER_CUBIC)\n",
    "\n",
    "#画像をWindowで表示\n",
    "cv2.imshow('image',img)\n",
    "cv2.imshow('result1',res)\n",
    "cv2.imshow('result2',res2)\n",
    "\n",
    "#キー入力を待つ\n",
    "cv2.waitKey(0)\n",
    "#何かしらのキーを打つとウィンドウを閉じる\n",
    "cv2.destroyAllWindows()\n",
    "#全ての処理を終了する前にちょっと待つ。\n",
    "cv2.waitKey(1)"
   ]
  },
  {
   "cell_type": "markdown",
   "metadata": {},
   "source": [
    "# 並進"
   ]
  },
  {
   "cell_type": "code",
   "execution_count": null,
   "metadata": {},
   "outputs": [],
   "source": [
    "import cv2\n",
    "import numpy as np\n",
    "\n",
    "#画像を読み込む。第二引数は 0:グレースケール、1:カラー画像 -1:カラー＋アルファ\n",
    "img = cv2.imread('Images/arfukuoka.png',1)\n",
    "\n",
    "height,width,_=img.shape\n",
    "\n",
    "#並進に関するパラメータ\n",
    "M = np.float32([[1,0,50],[0,1,100]])\n",
    "#warpAffineで移動させる\n",
    "dst = cv2.warpAffine(img,M,(width+100,height+100))\n",
    "\n",
    "#画像をWindowで表示\n",
    "cv2.imshow('image',img)\n",
    "cv2.imshow('result',dst)\n",
    "\n",
    "#キー入力を待つ\n",
    "cv2.waitKey(0)\n",
    "#何かしらのキーを打つとウィンドウを閉じる\n",
    "cv2.destroyAllWindows()\n",
    "#全ての処理を終了する前にちょっと待つ。\n",
    "cv2.waitKey(1)"
   ]
  },
  {
   "cell_type": "markdown",
   "metadata": {},
   "source": [
    "# 回転"
   ]
  },
  {
   "cell_type": "code",
   "execution_count": null,
   "metadata": {},
   "outputs": [],
   "source": [
    "import cv2\n",
    "import numpy as np\n",
    "\n",
    "#画像を読み込む。第二引数は 0:グレースケール、1:カラー画像 -1:カラー＋アルファ\n",
    "img = cv2.imread('Images/arfukuoka.png',1)\n",
    "\n",
    "height,width,_=img.shape\n",
    "\n",
    "#回転に関するパラメータ\n",
    "M = cv2.getRotationMatrix2D((width/2,height/2),90,1)\n",
    "#warpAffineで回転させる\n",
    "dst = cv2.warpAffine(img,M,(width+100,height+100))\n",
    "\n",
    "#画像をWindowで表示\n",
    "cv2.imshow('image',img)\n",
    "cv2.imshow('result',dst)\n",
    "\n",
    "#キー入力を待つ\n",
    "cv2.waitKey(0)\n",
    "#何かしらのキーを打つとウィンドウを閉じる\n",
    "cv2.destroyAllWindows()\n",
    "#全ての処理を終了する前にちょっと待つ。\n",
    "cv2.waitKey(1)"
   ]
  },
  {
   "cell_type": "markdown",
   "metadata": {},
   "source": [
    "# アフィン変換"
   ]
  },
  {
   "cell_type": "code",
   "execution_count": null,
   "metadata": {},
   "outputs": [],
   "source": [
    "import cv2\n",
    "import numpy as np\n",
    "\n",
    "#画像を読み込む。第二引数は 0:グレースケール、1:カラー画像 -1:カラー＋アルファ\n",
    "img = cv2.imread('Images/mesh.png',1)\n",
    "\n",
    "height,width,_=img.shape\n",
    "\n",
    "#移動させたい点\n",
    "pts1 = np.float32([[0,0],[width,0],[0,height]])\n",
    "#移動先\n",
    "pts2 = np.float32([[0,0],[width,50],[50,height]])\n",
    "\n",
    "img2=img.copy()\n",
    "\n",
    "for i in range(3):\n",
    "    img2=cv2.circle(img2,(int(pts1[i,0]),int(pts1[i,1])),10,(0,0,255),-1)\n",
    "\n",
    "for i in range(3):\n",
    "    img2=cv2.circle(img2,(int(pts2[i,0]),int(pts2[i,1])),4,(255,0,0),-1)\n",
    "\n",
    "\n",
    "#アフィン変換(変形)のパラメータ\n",
    "M = cv2.getAffineTransform(pts1,pts2)\n",
    "#warpAffineで変形\n",
    "dst = cv2.warpAffine(img,M,(width+100,height+100))\n",
    "\n",
    "#画像をWindowで表示\n",
    "cv2.imshow('image',img2)\n",
    "cv2.imshow('result',dst)\n",
    "\n",
    "#キー入力を待つ\n",
    "cv2.waitKey(0)\n",
    "#何かしらのキーを打つとウィンドウを閉じる\n",
    "cv2.destroyAllWindows()\n",
    "#全ての処理を終了する前にちょっと待つ。\n",
    "cv2.waitKey(1)"
   ]
  },
  {
   "cell_type": "markdown",
   "metadata": {},
   "source": [
    "# 射影変換"
   ]
  },
  {
   "cell_type": "code",
   "execution_count": null,
   "metadata": {},
   "outputs": [],
   "source": [
    "import cv2\n",
    "import numpy as np\n",
    "\n",
    "#画像を読み込む。第二引数は 0:グレースケール、1:カラー画像 -1:カラー＋アルファ\n",
    "img = cv2.imread('Images/mesh.png',1)\n",
    "\n",
    "height,width,_=img.shape\n",
    "\n",
    "#移動させたい点\n",
    "pts1 = np.float32([[0,0],[width,0],[width,height],[0,height]])\n",
    "#移動先\n",
    "pts2 = np.float32([[30,40],[width-100,30],[width-10,height-50],[20,height-30]])\n",
    "\n",
    "img2=img.copy()\n",
    "\n",
    "for i in range(4):\n",
    "    img2=cv2.circle(img2,(int(pts1[i,0]),int(pts1[i,1])),10,(0,0,255),-1)\n",
    "\n",
    "for i in range(4):\n",
    "    img2=cv2.circle(img2,(int(pts2[i,0]),int(pts2[i,1])),5,(255,0,0),-1)\n",
    "\n",
    "\n",
    "#射影変換(変形)のパラメータ\n",
    "M = cv2.getPerspectiveTransform(pts1,pts2)\n",
    "#warpAffineで変形\n",
    "dst = cv2.warpPerspective(img,M,(width+100,height+100))\n",
    "\n",
    "#画像をWindowで表示\n",
    "cv2.imshow('image',img2)\n",
    "cv2.imshow('result',dst)\n",
    "\n",
    "#キー入力を待つ\n",
    "cv2.waitKey(0)\n",
    "#何かしらのキーを打つとウィンドウを閉じる\n",
    "cv2.destroyAllWindows()\n",
    "#全ての処理を終了する前にちょっと待つ。\n",
    "cv2.waitKey(1)"
   ]
  },
  {
   "cell_type": "code",
   "execution_count": null,
   "metadata": {},
   "outputs": [],
   "source": [
    "import cv2\n",
    "import numpy as np\n",
    "\n",
    "#画像を読み込む。第二引数は 0:グレースケール、1:カラー画像 -1:カラー＋アルファ\n",
    "img = cv2.imread('Images/marker.jpg',1)\n",
    "\n",
    "height,width,_=img.shape\n",
    "\n",
    "#移動先\n",
    "pts2 = np.float32([[0,0],[width,0],[width,height],[0,height]])\n",
    "#移動させたい点\n",
    "pts1 = np.float32([[100,68],[218,58],[263,168],[114,193]])\n",
    "\n",
    "img2=img.copy()\n",
    "\n",
    "for i in range(4):\n",
    "    img2=cv2.circle(img2,(int(pts1[i,0]),int(pts1[i,1])),10,(0,0,255),-1)\n",
    "\n",
    "for i in range(4):\n",
    "    img2=cv2.circle(img2,(int(pts2[i,0]),int(pts2[i,1])),5,(255,0,0),-1)\n",
    "\n",
    "\n",
    "#射影変換(変形)のパラメータ\n",
    "M = cv2.getPerspectiveTransform(pts1,pts2)\n",
    "#warpPerspectiveで変形\n",
    "dst = cv2.warpPerspective(img,M,(width,height))\n",
    "\n",
    "#画像をWindowで表示\n",
    "cv2.imshow('image',img2)\n",
    "cv2.imshow('result',dst)\n",
    "\n",
    "#キー入力を待つ\n",
    "cv2.waitKey(0)\n",
    "#何かしらのキーを打つとウィンドウを閉じる\n",
    "cv2.destroyAllWindows()\n",
    "#全ての処理を終了する前にちょっと待つ。\n",
    "cv2.waitKey(1)"
   ]
  },
  {
   "cell_type": "code",
   "execution_count": null,
   "metadata": {},
   "outputs": [],
   "source": []
  }
 ],
 "metadata": {
  "kernelspec": {
   "display_name": "Python 3",
   "language": "python",
   "name": "python3"
  },
  "language_info": {
   "codemirror_mode": {
    "name": "ipython",
    "version": 3
   },
   "file_extension": ".py",
   "mimetype": "text/x-python",
   "name": "python",
   "nbconvert_exporter": "python",
   "pygments_lexer": "ipython3",
   "version": "3.7.6"
  }
 },
 "nbformat": 4,
 "nbformat_minor": 4
}
