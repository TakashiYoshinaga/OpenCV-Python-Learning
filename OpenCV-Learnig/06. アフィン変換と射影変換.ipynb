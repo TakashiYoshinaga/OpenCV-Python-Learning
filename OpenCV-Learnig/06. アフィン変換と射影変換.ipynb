{
 "cells": [
  {
   "cell_type": "markdown",
   "metadata": {},
   "source": [
    "## テンプレート"
   ]
  },
  {
   "cell_type": "code",
   "execution_count": null,
   "metadata": {},
   "outputs": [],
   "source": [
    "import cv2\n",
    "#画像を読み込む。第二引数は 0:グレースケール、1:カラー画像 -1:カラー＋アルファ\n",
    "img = cv2.imread('Images/arfukuoka.png',1)\n",
    "#画像をWindowで表示\n",
    "cv2.imshow('image',img)\n",
    "#キー入力を待つ\n",
    "cv2.waitKey(0)\n",
    "#何かしらのキーを打つとウィンドウを閉じる\n",
    "cv2.destroyAllWindows()\n",
    "#全ての処理を終了する前にちょっと待つ。\n",
    "cv2.waitKey(1)"
   ]
  },
  {
   "cell_type": "markdown",
   "metadata": {},
   "source": [
    "## スケーリング"
   ]
  },
  {
   "cell_type": "code",
   "execution_count": null,
   "metadata": {},
   "outputs": [],
   "source": [
    "import cv2\n",
    "#画像を読み込む。第二引数は 0:グレースケール、1:カラー画像 -1:カラー＋アルファ\n",
    "img = cv2.imread('Images/arfukuoka.png',1)\n",
    "\n",
    "#方法1 :fx,fyを使って縦横の倍率を決める(補間方法はオプション)\n",
    "res=cv2.resize(img,None,fx=1.3, fy=1.3,interpolation = cv2.INTER_CUBIC)\n",
    "#方法2 :縦横のサイズを直打ちして指定\n",
    "res2=cv2.resize(img,(200,300),interpolation = cv2.INTER_CUBIC)\n",
    "\n",
    "#画像をWindowで表示\n",
    "cv2.imshow('image',img)\n",
    "cv2.imshow('method1',res)\n",
    "cv2.imshow('method2',res2)\n",
    "#キー入力を待つ\n",
    "cv2.waitKey(0)\n",
    "#何かしらのキーを打つとウィンドウを閉じる\n",
    "cv2.destroyAllWindows()\n",
    "#全ての処理を終了する前にちょっと待つ。\n",
    "cv2.waitKey(1)"
   ]
  },
  {
   "cell_type": "markdown",
   "metadata": {},
   "source": [
    "## 並進(縦横の移動)"
   ]
  },
  {
   "cell_type": "code",
   "execution_count": null,
   "metadata": {},
   "outputs": [],
   "source": [
    "import cv2\n",
    "import numpy as np\n",
    "#画像を読み込む。第二引数は 0:グレースケール、1:カラー画像 -1:カラー＋アルファ\n",
    "img = cv2.imread('Images/arfukuoka.png',1)\n",
    "height,width,_=img.shape\n",
    "\n",
    "#並進の行列(tx=10, ty=50)\n",
    "M = np.float32([[1,0,10],[0,1,50]])\n",
    "#出力画像のサイズ\n",
    "dst = cv2.warpAffine(img,M,(width,height))\n",
    "\n",
    "#画像をWindowで表示\n",
    "cv2.imshow('image',img)\n",
    "cv2.imshow('result',dst)\n",
    "#キー入力を待つ\n",
    "cv2.waitKey(0)\n",
    "#何かしらのキーを打つとウィンドウを閉じる\n",
    "cv2.destroyAllWindows()\n",
    "#全ての処理を終了する前にちょっと待つ。\n",
    "cv2.waitKey(1)"
   ]
  },
  {
   "cell_type": "markdown",
   "metadata": {},
   "source": [
    "## 回転"
   ]
  },
  {
   "cell_type": "code",
   "execution_count": null,
   "metadata": {},
   "outputs": [],
   "source": [
    "import cv2\n",
    "import numpy as np\n",
    "#画像を読み込む。第二引数は 0:グレースケール、1:カラー画像 -1:カラー＋アルファ\n",
    "img = cv2.imread('Images/arfukuoka.png',1)\n",
    "height,width,_=img.shape\n",
    "\n",
    "#回転行列(画像の真ん中を軸に60°回転)\n",
    "M = cv2.getRotationMatrix2D((width//2,height//2),60,1)\n",
    "\n",
    "#出力画像のサイズ\n",
    "dst = cv2.warpAffine(img,M,(width,height))\n",
    "\n",
    "#画像をWindowで表示\n",
    "cv2.imshow('image',img)\n",
    "cv2.imshow('result',dst)\n",
    "#キー入力を待つ\n",
    "cv2.waitKey(0)\n",
    "#何かしらのキーを打つとウィンドウを閉じる\n",
    "cv2.destroyAllWindows()\n",
    "#全ての処理を終了する前にちょっと待つ。\n",
    "cv2.waitKey(1)"
   ]
  },
  {
   "cell_type": "markdown",
   "metadata": {},
   "source": [
    "## アフィン変換(変形)"
   ]
  },
  {
   "cell_type": "code",
   "execution_count": null,
   "metadata": {},
   "outputs": [],
   "source": [
    "import cv2\n",
    "import numpy as np\n",
    "#画像を読み込む。第二引数は 0:グレースケール、1:カラー画像 -1:カラー＋アルファ\n",
    "img = cv2.imread('Images/mesh.png',1)\n",
    "height,width,_=img.shape\n",
    "\n",
    "#移動前の点\n",
    "pts1 = np.float32([[0,0],[width,0],[0,height]])\n",
    "#上記の点の移動先\n",
    "pts2 = np.float32([[0,0],[width,30],[0,height]])\n",
    "\n",
    "#指定した3点×2を可視化するための処理\n",
    "img2=img.copy();\n",
    "for i in range(3):\n",
    "    img2 = cv2.circle(img2,(int(pts1[i,0]),int(pts1[i,1])), 10, (0,0,255),-1)\n",
    "\n",
    "for i in range(3):\n",
    "    img2 = cv2.circle(img2,(int(pts2[i,0]),int(pts2[i,1])), 5, (255,0,0),-1)\n",
    "    \n",
    "#変形の変換行列\n",
    "M=cv2.getAffineTransform(pts1,pts2)\n",
    "#変形\n",
    "dst=cv2.warpAffine(img,M,(width,height))\n",
    "\n",
    "#画像をWindowで表示\n",
    "cv2.imshow('image',img2)\n",
    "cv2.imshow('result',dst)\n",
    "#キー入力を待つ\n",
    "cv2.waitKey(0)\n",
    "#何かしらのキーを打つとウィンドウを閉じる\n",
    "cv2.destroyAllWindows()\n",
    "#全ての処理を終了する前にちょっと待つ。\n",
    "cv2.waitKey(1)"
   ]
  },
  {
   "cell_type": "markdown",
   "metadata": {},
   "source": [
    "## 射影変換(変形)"
   ]
  },
  {
   "cell_type": "code",
   "execution_count": null,
   "metadata": {},
   "outputs": [],
   "source": [
    "import cv2\n",
    "import numpy as np\n",
    "#画像を読み込む。第二引数は 0:グレースケール、1:カラー画像 -1:カラー＋アルファ\n",
    "img = cv2.imread('Images/mesh.png',1)\n",
    "height,width,_=img.shape\n",
    "\n",
    "#移動前の点\n",
    "pts1 = np.float32([[0,0],[width,0],[width,height],[0,height]])\n",
    "#上記の点の移動先\n",
    "pts2 = np.float32([[30,40],[width-100,30],[width-10,height-50],[20,height-30]])\n",
    "\n",
    "#指定した4点×2の可視化\n",
    "img2=img.copy();\n",
    "for i in range(4):\n",
    "    img2 = cv2.circle(img2,(int(pts1[i,0]),int(pts1[i,1])), 10, (0,0,255),-1)\n",
    "for i in range(4):\n",
    "    img2 = cv2.circle(img2,(int(pts2[i,0]),int(pts2[i,1])), 4, (255,0,0),-1)\n",
    "    \n",
    "#射影行列の算出\n",
    "M=cv2.getPerspectiveTransform(pts1,pts2)\n",
    "#射影変換\n",
    "dst=cv2.warpPerspective(img,M,(width,height))\n",
    "\n",
    "#画像をWindowで表示\n",
    "cv2.imshow('image',img2)\n",
    "cv2.imshow('result',dst)\n",
    "#キー入力を待つ\n",
    "cv2.waitKey(0)\n",
    "#何かしらのキーを打つとウィンドウを閉じる\n",
    "cv2.destroyAllWindows()\n",
    "#全ての処理を終了する前にちょっと待つ。\n",
    "cv2.waitKey(1)"
   ]
  },
  {
   "cell_type": "markdown",
   "metadata": {},
   "source": [
    "## 射影変換で斜め→正面変換"
   ]
  },
  {
   "cell_type": "code",
   "execution_count": null,
   "metadata": {},
   "outputs": [],
   "source": [
    "import cv2\n",
    "import numpy as np\n",
    "#画像を読み込む。第二引数は 0:グレースケール、1:カラー画像 -1:カラー＋アルファ\n",
    "img = cv2.imread('Images/marker.jpg',1)\n",
    "height,width,_=img.shape\n",
    "\n",
    "#上記のコードとの違いは点の座標と扱う画像だけ！\n",
    "#移動前の点\n",
    "pts1 = np.float32([[100,68],[218,58],[263,168],[114,193]])\n",
    "#上記の点の移動先\n",
    "pts2 = np.float32([[0,0],[width,0],[width,height],[0,height]])\n",
    "\n",
    "#指定した4点×2の可視化\n",
    "img2=img.copy();\n",
    "for i in range(4):\n",
    "    img2 = cv2.circle(img2,(int(pts1[i,0]),int(pts1[i,1])), 10, (0,0,255),-1)\n",
    "for i in range(4):\n",
    "    img2 = cv2.circle(img2,(int(pts2[i,0]),int(pts2[i,1])), 4, (255,0,0),-1)\n",
    "    \n",
    "#射影行列の算出\n",
    "M=cv2.getPerspectiveTransform(pts1,pts2)\n",
    "#射影変換\n",
    "dst=cv2.warpPerspective(img,M,(width,height))\n",
    "\n",
    "#マーカの黒枠の太さ(マーカー全体の1/4)\n",
    "marginH=height//4;\n",
    "marginW=width//4;\n",
    "#黒枠の内側だけをクリッピング\n",
    "dst2=dst[marginH:marginH*3,marginW:marginW*3]\n",
    "#見やすいように300x300に変換\n",
    "dst2=cv2.resize(dst2,(300,300),interpolation = cv2.INTER_CUBIC)\n",
    "\n",
    "#画像をWindowで表示\n",
    "cv2.imshow('image',img2)\n",
    "cv2.imshow('result',dst)\n",
    "cv2.imshow('pattern',dst2)\n",
    "#キー入力を待つ\n",
    "cv2.waitKey(0)\n",
    "#何かしらのキーを打つとウィンドウを閉じる\n",
    "cv2.destroyAllWindows()\n",
    "#全ての処理を終了する前にちょっと待つ。\n",
    "cv2.waitKey(1)"
   ]
  },
  {
   "cell_type": "markdown",
   "metadata": {},
   "source": [
    "# マウス操作に対応"
   ]
  },
  {
   "cell_type": "code",
   "execution_count": null,
   "metadata": {},
   "outputs": [],
   "source": [
    "import cv2\n",
    "import numpy as np\n",
    "\n",
    "index=0\n",
    "\n",
    "# マウス操作に関する処理\n",
    "def mousePos(event,x,y,flags,param):\n",
    "    global index\n",
    "    #index番目(0~3)\n",
    "    if index<3:\n",
    "        #マウスの位置をindex番目の点の表にする\n",
    "        pts2[index,0]=x\n",
    "        pts2[index,1]=y\n",
    "    #マウスをクリックしたら適当なindexにする\n",
    "    if event == cv2.EVENT_LBUTTONUP:\n",
    "        index=100\n",
    "\n",
    "#画像を読み込む。第二引数は 0:グレースケール、1:カラー画像 -1:カラー＋アルファ\n",
    "img = cv2.imread('Images/mesh.png',1)\n",
    "height,width,_=img.shape\n",
    "\n",
    "#移動前後の点(マウスで動かすから適当でOK)\n",
    "pts1 = np.float32([[0,0],[width,0],[0,height]])\n",
    "pts2 = np.float32([[0,0],[width,10],[0,height]])\n",
    "\n",
    "#表示する前にwindow名をつける\n",
    "cv2.namedWindow('image2')\n",
    "#上記windowにマウスアクションを対応させる\n",
    "cv2.setMouseCallback('image2',mousePos)\n",
    " \n",
    "while (True):\n",
    "    #指定した点を表示\n",
    "    img2=img.copy();\n",
    "    for i in range(3):\n",
    "        img2 = cv2.circle(img2,(int(pts1[i,0]),int(pts1[i,1])), 10, (0,0,255),-1)\n",
    "    for i in range(3):\n",
    "        img2 = cv2.circle(img2,(int(pts2[i,0]),int(pts2[i,1])), 4, (255,0,0),-1)\n",
    "    #アフィン変換\n",
    "    M=cv2.getAffineTransform(pts1,pts2)\n",
    "    dst=cv2.warpAffine(img,M,(width,height))\n",
    "    \n",
    "    #画像をWindowで表示\n",
    "    cv2.imshow('image2',img2)\n",
    "    cv2.imshow('dst',dst)\n",
    "    #30ミリ秒、キー入力を待つ\n",
    "    key = cv2.waitKey(30) & 0xFF\n",
    "    #qを入力した場合は終了\n",
    "    #0~2を押すと対応する点がマウスに追従するようになる。\n",
    "    #画面をクリックしたらマウスに追従しなくなる。(mousePos内参照)\n",
    "    if key ==ord('q') :\n",
    "        break\n",
    "    elif key == ord('0'):\n",
    "        index=0\n",
    "    elif key == ord('1'):\n",
    "        index=1\n",
    "    elif key==ord('2'):\n",
    "        index=2\n",
    "    \n",
    "        \n",
    "#キャプチャを終了\n",
    "cv2.waitKey(1)\n",
    "#全てのウィンドウを閉じる\n",
    "cv2.destroyAllWindows()\n",
    "#フリーズ対策として終わる前にちょっと待つ\n",
    "cv2.waitKey(1)"
   ]
  },
  {
   "cell_type": "code",
   "execution_count": null,
   "metadata": {},
   "outputs": [],
   "source": []
  }
 ],
 "metadata": {
  "kernelspec": {
   "display_name": "Python 3",
   "language": "python",
   "name": "python3"
  },
  "language_info": {
   "codemirror_mode": {
    "name": "ipython",
    "version": 3
   },
   "file_extension": ".py",
   "mimetype": "text/x-python",
   "name": "python",
   "nbconvert_exporter": "python",
   "pygments_lexer": "ipython3",
   "version": "3.7.6"
  }
 },
 "nbformat": 4,
 "nbformat_minor": 4
}
