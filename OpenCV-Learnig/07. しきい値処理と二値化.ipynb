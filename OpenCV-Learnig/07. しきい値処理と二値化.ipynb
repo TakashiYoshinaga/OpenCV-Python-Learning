{
 "cells": [
  {
   "cell_type": "markdown",
   "metadata": {},
   "source": [
    "## threshold関数を用いた単純なしきい値処理"
   ]
  },
  {
   "cell_type": "code",
   "execution_count": null,
   "metadata": {},
   "outputs": [],
   "source": [
    "import cv2\n",
    "import numpy as np\n",
    "\n",
    "#画像を読み込む。第二引数は 0:グレースケール、1:カラー画像 -1:カラー＋アルファ\n",
    "img = cv2.imread('Images/gray.jpg',0)\n",
    "#画像の縦横幅を取得\n",
    "height,width=img.shape;\n",
    "\n",
    "#しきい値(0~255)で指定\n",
    "th=130\n",
    "\n",
    "#ここからしきい値処理。第一引数は元画像、第二引数はしきい値、第四引数は処理内容、第三引数は後ほど。\n",
    "#しきい値処理の結果画像は二つ目の戻り値(thresh1~5)に代入する。\n",
    "#retについては本ページの最後に紹介。\n",
    "#THERSH_BINARYはしきい値以下を0(黒)、それ以外を第三引数の値(255=白)で塗りつぶす。\n",
    "ret,thresh1 = cv2.threshold(img, th, 255, cv2.THRESH_BINARY)\n",
    "#THERSH_BINARY_INVは上記の白黒処理を反転(inverse)させる。\n",
    "ret,thresh2 = cv2.threshold(img,th,255,cv2.THRESH_BINARY_INV)\n",
    "#THERSH_TRUNCはしきい値以下の暗い画素の濃淡を残し、それ以外をしきい値の色で塗りつぶす。(第三しきい値は不使用)\n",
    "ret,thresh3 = cv2.threshold(img,th,255,cv2.THRESH_TRUNC)\n",
    "#THERSH_TOZEOはしきい値以下の暗い画素を黒く塗りつぶし、それ以外の明るい画素の濃淡を残す(第三しきい値は不使用)\n",
    "ret,thresh4 = cv2.threshold(img,th,255,cv2.THRESH_TOZERO)\n",
    "#THERSH_TOZEOはしきい値以下の暗い画素の濃淡を残し、それ以外の明るい画素を黒く塗りつぶす(第三しきい値は不使用)\n",
    "ret,thresh5 = cv2.threshold(img,th,255,cv2.THRESH_TOZERO_INV)\n",
    "\n",
    "\n",
    "#これ以降は結果の表示のためのコード。\n",
    "#しきい値処理の各方法の違いを理解する上では特に重要ではないので読み飛ばしてOK\n",
    "\n",
    "#画像と用いた手法を配列に入れておく\n",
    "images = [img, thresh1, thresh2, thresh3, thresh4, thresh5]\n",
    "titles = ['Original Image','BINARY','BINARY_INV','TRUNC','TOZERO','TOZERO_INV']\n",
    "\n",
    "#各結果を表示する際の余白\n",
    "marginW=10\n",
    "marginH=40\n",
    "#余白を加えた各結果の描画エリアの縦横幅\n",
    "strideH=height+marginH*2\n",
    "strideW=width+marginW*2\n",
    "#結果表示用の画像を初期化。2行3列分の画素数を確保し、150の濃さで塗りつぶす。\n",
    "resultImg = np.full((strideH*2, strideW*3),150, np.uint8)\n",
    "#画像の下に表示する文字のフォント\n",
    "font = cv2.FONT_HERSHEY_SIMPLEX\n",
    "#二行目の描画エリアの開始位置\n",
    "y=strideH+marginH\n",
    "\n",
    "for i in range(3):\n",
    "    #画像書き込みの横位置\n",
    "    x=strideW* i+marginW \n",
    "    #resultImgに画像を書き込む。[縦の始点：縦の終点, 横の始点 : 横の終点]で書き込む領域を指定。\n",
    "    #1行目に画像書き込み\n",
    "    resultImg[ marginH : marginH+height, x : x+width] = images[i]; \n",
    "    #2行目に画像書き込み\n",
    "    resultImg[ y : y+height, x : x+width]=images[i+3];\n",
    "    #使用した手法を文字で書き込み。(位置の微調整等は適当)\n",
    "    cv2.putText(resultImg,titles[i],(x,height+marginH+25), font, 0.8,(255,255,255),2,cv2.LINE_AA)\n",
    "    cv2.putText(resultImg,titles[i+3],(x,height+y+25), font, 0.8,(255,255,255),2,cv2.LINE_AA)\n",
    "\n",
    "#画像をWindowで表示\n",
    "cv2.imshow('Press any key to exit',resultImg)\n",
    "#キー入力を待つ\n",
    "cv2.waitKey(0)\n",
    "#何かしらのキーを打つとウィンドウを閉じる\n",
    "cv2.destroyAllWindows()\n",
    "#全ての処理を終了する前にちょっと待つ。\n",
    "cv2.waitKey(1)"
   ]
  },
  {
   "cell_type": "markdown",
   "metadata": {},
   "source": [
    "### 補足\n",
    "実行結果。以下の通り各手法でのしきい値処理の結果が一覧で表示される。<br>\n",
    "<img src=\"./Results/threshold.png\" width=\"400\" >\n",
    "<br>\n",
    "しきい値処理とは、境となる値(しきい値)に対する大小に応じて何かしらの処理をすること。\n",
    "<br><br>\n",
    "コードのコメントにも書いたがそれぞれ下記の通り。\n",
    "<br>\n",
    "<b>THERSH_BINARY:</b> しきい値以下を0(黒)、それ以外を第三引数の値(255=白)で塗りつぶす。\n",
    "<br>\n",
    "<b>THERSH_BINARY_INV:</b> 上記の白黒処理を反転(inverse)させる。\n",
    "<br>\n",
    "<b>THERSH_TRUNC:</b> しきい値以下の暗い画素の濃淡を残し、それ以外をしきい値の色とする。\n",
    "<br>\n",
    "<b>THERSH_TOZEO:</b> しきい値以下の暗い画素を黒、それ以外の明るい画素の濃淡を残す。\n",
    "<br>\n",
    "<b>THERSH_TOZEO:</b> しきい値以下の暗い画素の濃淡を残し、それ以外の明るい画素を黒。\n",
    "<br><br>\n",
    "詳しくは公式で詳細をご覧ください。<br>\n",
    "http://opencv.jp/opencv-2svn/py/imgproc_miscellaneous_image_transformations.html?highlight=threshold#Threshold\n",
    "<br><br>\n",
    "なおこの中でBINARYやBINARY_INVのようにしきい値に対する大小で白黒(On/Off)をはっきり分けることを二値化という。\n",
    "<br><br>\n",
    "[余談]<br>\n",
    "試しにthの値を変更してしきい値に応じてどのような結果を得られるか確認すると挙動がよくわかります。\n",
    "<br>\n",
    "また、読み込むが画像をczech.jpgに変更すると実際の風景画像に対するしきい値処理の具体的なイメージがわくと思います。<br>\n",
    "<img src=\"./Results/threshold2.png\" width=\"400\" >"
   ]
  },
  {
   "cell_type": "markdown",
   "metadata": {},
   "source": [
    "## THRESH_BINRAYにフォーカスしたサンプル"
   ]
  },
  {
   "cell_type": "code",
   "execution_count": null,
   "metadata": {},
   "outputs": [],
   "source": [
    "import cv2\n",
    "import numpy as np\n",
    "\n",
    "#画像を読み込む。第二引数は 0:グレースケール、1:カラー画像 -1:カラー＋アルファ\n",
    "img = cv2.imread('Images/marker.jpg',0)\n",
    "\n",
    "#しきい値100で二値化\n",
    "ret,thresh1 = cv2.threshold(img,100,255,cv2.THRESH_BINARY)\n",
    "#しきい値160で二値化\n",
    "ret,thresh2 = cv2.threshold(img,160,255,cv2.THRESH_BINARY)\n",
    "\n",
    "#二値化結果とWindowに表示する文字を配列で初期化\n",
    "titles = ['Original','th=100','th=160']\n",
    "images = [img, thresh1,thresh2]\n",
    "\n",
    "#元画像と結果を表示\n",
    "for i in range(3):\n",
    "    cv2.imshow(titles[i],images[i])\n",
    "\n",
    "#キー入力を待つ\n",
    "cv2.waitKey(0)\n",
    "#何かしらのキーを打つとウィンドウを閉じる\n",
    "cv2.destroyAllWindows()\n",
    "#全ての処理を終了する前にちょっと待つ。\n",
    "cv2.waitKey(1)"
   ]
  },
  {
   "cell_type": "markdown",
   "metadata": {},
   "source": [
    "### 補足\n",
    "しきい値処理の中でも2値化は物体や文字の検出や追跡を行う際の下処理として、処理すべき領域とそれ以外のふるい分けなどで多く用いられる。\n",
    "<br>\n",
    "そのため用途によってはしきい値を慎重に選ぶ必要がある。例えばARマーカの検出をするためにTHESH_BINARYで二値化を行う場合、しきい値によっては背景とマーカーを分離することができず、その後のマーカー検出ができなくなってしまうことが考えられる。(下図)<br>\n",
    "<img src=\"./Results/threshold3.png\" width=\"400\" >\n",
    "<br>\n",
    "<br>\n",
    "これに対して以下で紹介する適応的しきい値処理と大津の方法は自動的にしきい値を計算し、二値化を行う方法。\n",
    "<br>\n"
   ]
  },
  {
   "cell_type": "markdown",
   "metadata": {},
   "source": [
    "## 適応的しきい値処理"
   ]
  },
  {
   "cell_type": "code",
   "execution_count": null,
   "metadata": {},
   "outputs": [],
   "source": [
    "import cv2\n",
    "import numpy as np\n",
    "\n",
    "#画像を読み込む。第二引数は 0:グレースケール、1:カラー画像 -1:カラー＋アルファ\n",
    "img = cv2.imread('Images/marker.jpg',0)\n",
    "\n",
    "#しきい値160で単純二値化(前サンプルと同じ)\n",
    "ret,thresh1 = cv2.threshold(img,160,255,cv2.THRESH_BINARY)\n",
    "\n",
    "#適応的しきい値処理(中央値)。第三引数はしきい値の計算方法。\n",
    "#第五引数はしきい値計算に使用する近傍領域のサイズで1より大きな奇数で指定\n",
    "thresh2 = cv2.adaptiveThreshold(img,255,cv2.ADAPTIVE_THRESH_MEAN_C, cv2.THRESH_BINARY,11,2)\n",
    "#適応的しきい値処理(重みつけ平均)。\n",
    "thresh3 = cv2.adaptiveThreshold(img,255,cv2.ADAPTIVE_THRESH_GAUSSIAN_C, cv2.THRESH_BINARY,11,2)\n",
    "\n",
    "#二値化結果とWindowに表示する文字を配列で初期化\n",
    "titles = ['Original','th=160','MEAN','GAUSSIAN']\n",
    "images = [img, thresh1,thresh2,thresh3]\n",
    "\n",
    "#元画像と処理結果を表示\n",
    "for i in range(4):\n",
    "    cv2.imshow(titles[i],images[i])\n",
    "\n",
    "#キー入力を待つ\n",
    "cv2.waitKey(0)\n",
    "#何かしらのキーを打つとウィンドウを閉じる\n",
    "cv2.destroyAllWindows()\n",
    "#全ての処理を終了する前にちょっと待つ。\n",
    "cv2.waitKey(1)"
   ]
  },
  {
   "cell_type": "markdown",
   "metadata": {},
   "source": [
    "### 補足\n",
    "実行結果の左上は元画像、右上が単純な二値化、そして下段がそれぞれ適応的しきい値処理、つまりしきい値を自動計算して二値化した結果。<br>\n",
    "<img src=\"./Results/adaptive_thresh.png\" width=\"400\" >\n",
    "<br>\n",
    "適応的しきい値とは、画像中の画素を1ピクセルずつ注目してその周辺の縦・横方向の数ピクセルの近傍領域の明るさ(輝度)も用いてしきい値を決定する手法。得られるしきい値は、そのピクセルを含む近傍領域の明るさのおよそ中間くらいであり、それを計算する方法として各ピクセルの輝度の中央値を求める<b>ADAPTIVE_THRESH_MEAN_C</b>と重み付き平均を用いた<b>ADAPTIVE_THRESH_GAUSSIAN_C</b>がOpenCVから提供されている。\n",
    "<br><br>\n",
    "この機能を使用する際に重要になるのは第5引数のadaptiveThreshold。この数値は近傍領域のサイズであり、注目画素を含む縦横のピクセル数で指定する。例えば11の場合、注目画素の上下左右5ピクセルずつの幅を持つ四角形の領域を意味する。なおこの値を指定するときは必ず1より大きな奇数である必要があるので要注意。\n",
    "<br><br>\n",
    "また、最後の引数(=2)は本手法で計算されたしきい値をさらに調整するパラメータである。2を指定した場合は計算されたしきい値から2を引いた値で二値化を行うという意味になり、元の値で二値化した場合よりも白画素が多い結果になることが見込める。\n",
    "<br><br>\n",
    "本手法を用いて各ピクセルに対して局所的なしきい値処理を行うことで、上記のように輝度のムラがあるような画像に対してもマーカーの枠と背景周辺の分離は行えていることが確認できる。\n",
    "<br>\n",
    "ただし、近傍領域内の輝度変化が少ない箇所の二値化は苦手であるため例えばマーカー枠の黒い部分は白くなってしまう。このことから輪郭部分や細い線などの背景との輝度コントラストがはっきりした領域の抽出に長けている手法であるとも言え、例えばOCRによる文字認識を行う前の画像の前処理など方がどちらかというと向いている。\n",
    "<br><br>\n",
    "また、最後の引数(=2)は本手法で計算されたしきい値をさらに調整するパラメータである。2を指定した場合は計算されたしきい値から2を引いた値で二値化を行うという意味になり、元の値で二値化した場合よりも白画素が多い結果になることが見込める。\n",
    "\n",
    "<br>\n",
    "これに対して、単純二値化(THRESH_BINARY)のしきい値を自動的に決定する方法がある。それが次に紹介する大津の方法です。\n",
    "<br>\n",
    "\n"
   ]
  },
  {
   "cell_type": "markdown",
   "metadata": {},
   "source": [
    "## 大津の方法"
   ]
  },
  {
   "cell_type": "code",
   "execution_count": null,
   "metadata": {},
   "outputs": [],
   "source": [
    "import cv2\n",
    "import numpy as np\n",
    "\n",
    "#画像を読み込む。第二引数は 0:グレースケール、1:カラー画像 -1:カラー＋アルファ\n",
    "img = cv2.imread('Images/marker.jpg',0)\n",
    "\n",
    "#しきい値160で単純二値化(前サンプルと同じ)\n",
    "ret1,thresh1 = cv2.threshold(img,160,255,cv2.THRESH_BINARY)\n",
    "\n",
    "#THESH_OTSUを指定することで自動しきい値による二値化。第二引数に入力したしきい値は無効。\n",
    "ret2,thresh2 = cv2.threshold(img,127,255,cv2.THRESH_OTSU)\n",
    "\n",
    "#二値化結果とWindowに表示する文字を配列で初期化\n",
    "titles = ['Original','th=160','OTSU']\n",
    "images = [img, thresh1,thresh2]\n",
    "\n",
    "#元画像と処理結果を表示\n",
    "for i in range(3):\n",
    "    cv2.imshow(titles[i],images[i])\n",
    "\n",
    "#キー入力を待つ\n",
    "cv2.waitKey(0)\n",
    "#何かしらのキーを打つとウィンドウを閉じる\n",
    "cv2.destroyAllWindows()\n",
    "#全ての処理を終了する前にちょっと待つ。\n",
    "cv2.waitKey(1)"
   ]
  },
  {
   "cell_type": "markdown",
   "metadata": {},
   "source": [
    "### 補足\n",
    "下図は元画像、決め打ちのしきい値を用いた二値化、大津の方法で決定したしきい値での二値化。<br>\n",
    "<img src=\"./Results/otsu_thresh.png\" width=\"500\" >\n",
    "<br>\n",
    "使用方法は本ページで使用したthreshold関数を呼び、方法として大津の方法(THRESH_OTSU)を選択するだけ。<br>\n",
    "ちなみにこの方法で計算された具体的なしきい値の値は第一戻り値のret2に代入される。\n",
    "<br>\n",
    "適応的しきい値処理と異なり大津の方法を用いた二値化では、単純な二値化と同様に1つのしきい値で全体を二値化している。なお、しきい値を算出をする際はまず画像全体の輝度分布(ヒストグラム)を作成し明るい画素と黒い画素の分布を見つけ、その間の値をしきい値としている。\n",
    "<br>\n",
    "詳細は下記を参照してください。<br>\n",
    "https://imagingsolution.blog.fc2.com/blog-entry-113.html"
   ]
  },
  {
   "cell_type": "markdown",
   "metadata": {},
   "source": [
    "<a href=\"./04.%20HSV%E3%82%92%E4%BD%BF%E3%81%A3%E3%81%9F%E8%89%B2%E6%8A%BD%E5%87%BA(%E9%9D%99%E6%AD%A2%E7%94%BB).ipynb\">\n"
   ]
  },
  {
   "cell_type": "markdown",
   "metadata": {},
   "source": [
    "## おまけ\n",
    "下記のテーマの際にHSVを用いた色抽出を行う方法を以前紹介した。ここでは対象領域を白、背景を黒で表したマスク画像を作成し、白色の領域に対して着色を行なった。\n",
    "<br>[04. HSVを使った色抽出(静止画)](https://github.com/TakashiYoshinaga/OpenCV-Python-Learning/blob/master/OpenCV-Learnig/04.%20HSV%E3%82%92%E4%BD%BF%E3%81%A3%E3%81%9F%E8%89%B2%E6%8A%BD%E5%87%BA(%E9%9D%99%E6%AD%A2%E7%94%BB).ipynb)\n",
    "<br>\n",
    "<img src=\"./Results/hsv.png\" width=\"500\" >\n",
    "<br>\n",
    "これも、色を塗るべき箇所とそうでない箇所を分離するということで、二値化の一つである。今回紹介した二値化と違い、色抽出の場合は複数のしきい値を用いてその範囲に入るか否かで二値化を行なっている。"
   ]
  },
  {
   "cell_type": "code",
   "execution_count": null,
   "metadata": {},
   "outputs": [],
   "source": []
  }
 ],
 "metadata": {
  "kernelspec": {
   "display_name": "Python 3",
   "language": "python",
   "name": "python3"
  },
  "language_info": {
   "codemirror_mode": {
    "name": "ipython",
    "version": 3
   },
   "file_extension": ".py",
   "mimetype": "text/x-python",
   "name": "python",
   "nbconvert_exporter": "python",
   "pygments_lexer": "ipython3",
   "version": "3.7.6"
  }
 },
 "nbformat": 4,
 "nbformat_minor": 4
}
