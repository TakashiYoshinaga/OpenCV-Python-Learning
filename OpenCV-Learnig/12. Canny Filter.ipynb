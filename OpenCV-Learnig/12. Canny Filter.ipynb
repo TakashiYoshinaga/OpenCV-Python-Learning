{
 "cells": [
  {
   "cell_type": "code",
   "execution_count": 2,
   "metadata": {},
   "outputs": [
    {
     "data": {
      "text/plain": [
       "-1"
      ]
     },
     "execution_count": 2,
     "metadata": {},
     "output_type": "execute_result"
    }
   ],
   "source": [
    "import cv2\n",
    "\n",
    "#画像を読み込む。第二引数は 0:グレースケール、1:カラー画像 -1:カラー＋アルファ\n",
    "img = cv2.imread('arfukuoka2.jpg',0)\n",
    "\n",
    "#ソーベルフィルタ(横方向)\n",
    "sobelx = cv2.Sobel(img,cv2.CV_64F,1,0,ksize=3)\n",
    "#ソーベルフィルタ(縦方向)\n",
    "sobely = cv2.Sobel(img,cv2.CV_64F,0,1,ksize=3)\n",
    "\n",
    "#0~255で表現\n",
    "sobelx = cv2.convertScaleAbs(sobelx)\n",
    "sobely = cv2.convertScaleAbs(sobely)\n",
    "#各ソーベルフィルタの結果を統合\n",
    "sobelxy = cv2.bitwise_or(sobelx,sobely)\n",
    "#######\n",
    "#エッジかどうかで2値化 (Sobel自体は画素値の変化を強調しているだけ)\n",
    "#######\n",
    "th,sobelxy = cv2.threshold(sobelxy,100,255,cv2.THRESH_BINARY)\n",
    "\n",
    "#######\n",
    "#Cannyフィルタ\n",
    "#######\n",
    "canny = cv2.Canny(img,180,100);\n",
    "\n",
    "#画像をWindowで表示\n",
    "cv2.imshow('image',img)\n",
    "cv2.imshow('sobel xy',sobelxy)\n",
    "cv2.imshow('canny', canny)\n",
    "\n",
    "#キー入力を待つ\n",
    "cv2.waitKey(0)\n",
    "#何かしらのキーを打つとウィンドウを閉じる\n",
    "cv2.destroyAllWindows()\n",
    "#全ての処理を終了する前にちょっと待つ。\n",
    "cv2.waitKey(1)\n"
   ]
  },
  {
   "cell_type": "code",
   "execution_count": 4,
   "metadata": {},
   "outputs": [
    {
     "data": {
      "text/plain": [
       "-1"
      ]
     },
     "execution_count": 4,
     "metadata": {},
     "output_type": "execute_result"
    }
   ],
   "source": [
    "import cv2\n",
    "#カメラに接続。引数の0は0番目のカメラという意味。\n",
    "cap = cv2.VideoCapture(0)\n",
    "\n",
    "while (True):\n",
    "    #カメラから画像をとってくる\n",
    "    ret,frame = cap.read()\n",
    "    #サイズでかいとき対策として半分にする\n",
    "    h,w,_=frame.shape[:3]\n",
    "    frame = cv2.resize(frame, (int(w//2), int(h//2))) \n",
    "    dst = cv2.cvtColor(frame, cv2.COLOR_BGR2GRAY)\n",
    "    canny = cv2.Canny(dst,128,50);\n",
    "    canny =cv2.bitwise_not(canny)\n",
    "    #ソーベルフィルタ(横方向)\n",
    "    #sobelx = cv2.Sobel(frame,cv2.CV_64F,1,0,ksize=3)\n",
    "    #ソーベルフィルタ(縦方向)\n",
    "    #sobely = cv2.Sobel(frame,cv2.CV_64F,0,1,ksize=3)\n",
    "    #0~255で表現\n",
    "    #sobelx = cv2.convertScaleAbs(sobelx)\n",
    "    #sobely = cv2.convertScaleAbs(sobely)\n",
    "    #各ソーベルフィルタの結果を統合\n",
    "    #sobelxy = cv2.bitwise_or(sobelx,sobely)\n",
    "    #######\n",
    "    #エッジかどうかで2値化 (Sobel自体は画素値の変化を強調しているだけ)\n",
    "    #######\n",
    "    #th,sobelxy = cv2.threshold(sobelxy,100,255,cv2.THRESH_BINARY)\n",
    "    #画像をウィンドウで表示\n",
    "    cv2.imshow(\"frame\",canny)\n",
    "    #30ミリ秒、キー入力を待つ\n",
    "    key = cv2.waitKey(30) & 0xFF\n",
    "    #qを入力した場合は終了\n",
    "    if key ==ord('q') :\n",
    "        break\n",
    "#キャプチャを終了\n",
    "cap.release()\n",
    "cv2.waitKey(1)\n",
    "#全てのウィンドウを閉じる\n",
    "cv2.destroyAllWindows()\n",
    "#フリーズ対策として終わる前にちょっと待つ\n",
    "cv2.waitKey(1)"
   ]
  },
  {
   "cell_type": "code",
   "execution_count": null,
   "metadata": {},
   "outputs": [],
   "source": []
  },
  {
   "cell_type": "code",
   "execution_count": null,
   "metadata": {},
   "outputs": [],
   "source": []
  }
 ],
 "metadata": {
  "kernelspec": {
   "display_name": "Python 3",
   "language": "python",
   "name": "python3"
  },
  "language_info": {
   "codemirror_mode": {
    "name": "ipython",
    "version": 3
   },
   "file_extension": ".py",
   "mimetype": "text/x-python",
   "name": "python",
   "nbconvert_exporter": "python",
   "pygments_lexer": "ipython3",
   "version": "3.7.7"
  }
 },
 "nbformat": 4,
 "nbformat_minor": 4
}
