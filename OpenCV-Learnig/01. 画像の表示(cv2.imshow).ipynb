{
 "cells": [
  {
   "cell_type": "code",
   "execution_count": null,
   "metadata": {},
   "outputs": [],
   "source": [
    "import cv2\n",
    "#画像を読み込む。第二引数は 0:グレースケール、1:カラー画像 -1:カラー＋アルファ\n",
    "img = cv2.imread('Images/arfukuoka.png',1)\n",
    "#画像をWindowで表示\n",
    "cv2.imshow('image',img)\n",
    "#キー入力を待つ\n",
    "cv2.waitKey(0)\n",
    "#何かしらのキーを打つとウィンドウを閉じる\n",
    "cv2.destroyAllWindows()\n",
    "#全ての処理を終了する前にちょっと待つ。\n",
    "cv2.waitKey(1)"
   ]
  },
  {
   "cell_type": "code",
   "execution_count": null,
   "metadata": {},
   "outputs": [],
   "source": []
  }
 ],
 "metadata": {
  "kernelspec": {
   "display_name": "Python 3",
   "language": "python",
   "name": "python3"
  },
  "language_info": {
   "codemirror_mode": {
    "name": "ipython",
    "version": 3
   },
   "file_extension": ".py",
   "mimetype": "text/x-python",
   "name": "python",
   "nbconvert_exporter": "python",
   "pygments_lexer": "ipython3",
   "version": "3.7.6"
  }
 },
 "nbformat": 4,
 "nbformat_minor": 4
}
