{
 "cells": [
  {
   "cell_type": "markdown",
   "metadata": {},
   "source": [
    "## 画像を横に並べて1枚にする"
   ]
  },
  {
   "cell_type": "code",
   "execution_count": null,
   "metadata": {},
   "outputs": [],
   "source": [
    "import cv2\n",
    "import numpy as np\n",
    "#画像を読み込む。第二引数は 0:グレースケール、1:カラー画像 -1:カラー＋アルファ\n",
    "img = cv2.imread('Images/OpenCV_Logo.png',1)\n",
    "#ネガポジ反転してみる\n",
    "img2 = cv2.bitwise_not(img)\n",
    "\n",
    "#2枚の画像を「横に」並べて1枚にする。\n",
    "resH=cv2.hconcat([img,img2])\n",
    "#2枚の画像を「縦に」並べて1枚にする。\n",
    "#resV=cv2.vconcat([img,img2])\n",
    "\n",
    "#画像をWindowで表示\n",
    "cv2.imshow('horizontal',resH)\n",
    "#cv2.imshow('vertical',resV)\n",
    "#キー入力を待つ\n",
    "cv2.waitKey(0)\n",
    "#何かしらのキーを打つとウィンドウを閉じる\n",
    "cv2.destroyAllWindows()\n",
    "#全ての処理を終了する前にちょっと待つ。\n",
    "cv2.waitKey(1)"
   ]
  },
  {
   "cell_type": "markdown",
   "metadata": {},
   "source": [
    "### 補足\n",
    "hconcat関数で画像を横に並べることができる<br>\n",
    "<img src=\"./Results/hconcat.png\" width=\"400\" >"
   ]
  },
  {
   "cell_type": "markdown",
   "metadata": {},
   "source": [
    "## 大きな画像を用意して書き込む"
   ]
  },
  {
   "cell_type": "code",
   "execution_count": null,
   "metadata": {},
   "outputs": [],
   "source": [
    "import cv2\n",
    "import numpy as np\n",
    "#画像を読み込む。第二引数は 0:グレースケール、1:カラー画像 -1:カラー＋アルファ\n",
    "img = cv2.imread('Images/OpenCV_Logo.png',1)\n",
    "#ネガポジ反転してみる\n",
    "img2 = cv2.bitwise_not(img)\n",
    "\n",
    "height,width,_=img.shape;\n",
    "\n",
    "#画像を作って初期化\n",
    "result = np.full((height*2, width*2,3),128, np.uint8)\n",
    "\n",
    "#書き込み領域[y_start:y_end, x_start:x_end]を指定して画像を代入\n",
    "result[ 0 :height, 0 :width] = img; \n",
    "result[ 200 :height+200, width :width *2] = img2; \n",
    "\n",
    "#画像をWindowで表示\n",
    "cv2.imshow('result',result)\n",
    "#キー入力を待つ\n",
    "cv2.waitKey(0)\n",
    "#何かしらのキーを打つとウィンドウを閉じる\n",
    "cv2.destroyAllWindows()\n",
    "#全ての処理を終了する前にちょっと待つ。\n",
    "cv2.waitKey(1)"
   ]
  },
  {
   "cell_type": "markdown",
   "metadata": {},
   "source": [
    "### 補足\n",
    "大きな画像を用意し、代入する範囲を指定すれば画像を書き込める。<br>\n",
    "<img src=\"./Results/add_images.png\" width=\"400\" >"
   ]
  },
  {
   "cell_type": "code",
   "execution_count": null,
   "metadata": {},
   "outputs": [],
   "source": []
  }
 ],
 "metadata": {
  "kernelspec": {
   "display_name": "Python 3",
   "language": "python",
   "name": "python3"
  },
  "language_info": {
   "codemirror_mode": {
    "name": "ipython",
    "version": 3
   },
   "file_extension": ".py",
   "mimetype": "text/x-python",
   "name": "python",
   "nbconvert_exporter": "python",
   "pygments_lexer": "ipython3",
   "version": "3.7.6"
  }
 },
 "nbformat": 4,
 "nbformat_minor": 4
}
